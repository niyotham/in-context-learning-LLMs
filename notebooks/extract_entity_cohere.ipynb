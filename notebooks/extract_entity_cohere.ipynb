{
 "cells": [
  {
   "cell_type": "code",
   "execution_count": 2,
   "metadata": {},
   "outputs": [],
   "source": [
    "import cohere\n",
    "import pandas as pd\n",
    "import requests\n",
    "import datetime\n",
    "from tqdm import tqdm\n",
    "import sys\n",
    "sys.path.append('../')\n",
    "import sys\n",
    "import os\n",
    "from scripts.processing import process_tokens\n",
    "import cohere"
   ]
  },
  {
   "cell_type": "code",
   "execution_count": 5,
   "metadata": {},
   "outputs": [],
   "source": [
    "train_df = pd.read_json('../data/job_description_train.json')\n",
    "test_df = pd.read_json('../data/job_description_test.json')"
   ]
  },
  {
   "cell_type": "code",
   "execution_count": 4,
   "metadata": {},
   "outputs": [
    {
     "data": {
      "text/html": [
       "<div>\n",
       "<style scoped>\n",
       "    .dataframe tbody tr th:only-of-type {\n",
       "        vertical-align: middle;\n",
       "    }\n",
       "\n",
       "    .dataframe tbody tr th {\n",
       "        vertical-align: top;\n",
       "    }\n",
       "\n",
       "    .dataframe thead th {\n",
       "        text-align: right;\n",
       "    }\n",
       "</style>\n",
       "<table border=\"1\" class=\"dataframe\">\n",
       "  <thead>\n",
       "    <tr style=\"text-align: right;\">\n",
       "      <th></th>\n",
       "      <th>document</th>\n",
       "      <th>tokens</th>\n",
       "      <th>relations</th>\n",
       "    </tr>\n",
       "  </thead>\n",
       "  <tbody>\n",
       "    <tr>\n",
       "      <th>0</th>\n",
       "      <td>Bachelor's degree in Mechanical Engineering or...</td>\n",
       "      <td>[{'text': 'Bachelor', 'start': 0, 'end': 8, 't...</td>\n",
       "      <td>[{'child': 4, 'head': 0, 'relationLabel': 'DEG...</td>\n",
       "    </tr>\n",
       "    <tr>\n",
       "      <th>1</th>\n",
       "      <td>10+ years of software engineering work experie...</td>\n",
       "      <td>[{'text': '10+ years', 'start': 0, 'end': 9, '...</td>\n",
       "      <td>[{'child': 4, 'head': 0, 'relationLabel': 'EXP...</td>\n",
       "    </tr>\n",
       "    <tr>\n",
       "      <th>2</th>\n",
       "      <td>3+ years Swift &amp; Objective-C and experience wi...</td>\n",
       "      <td>[{'text': '3+ years', 'start': 0, 'end': 8, 't...</td>\n",
       "      <td>[{'child': 3, 'head': 0, 'relationLabel': 'EXP...</td>\n",
       "    </tr>\n",
       "    <tr>\n",
       "      <th>3</th>\n",
       "      <td>8+ years experience in software engineering le...</td>\n",
       "      <td>[{'text': '8+ years', 'start': 0, 'end': 8, 't...</td>\n",
       "      <td>[{'child': 5, 'head': 0, 'relationLabel': 'EXP...</td>\n",
       "    </tr>\n",
       "    <tr>\n",
       "      <th>4</th>\n",
       "      <td>BS degree in Computer Science or related field...</td>\n",
       "      <td>[{'text': 'BS', 'start': 0, 'end': 2, 'token_s...</td>\n",
       "      <td>[{'child': 3, 'head': 0, 'relationLabel': 'DEG...</td>\n",
       "    </tr>\n",
       "    <tr>\n",
       "      <th>5</th>\n",
       "      <td>8+ years of development experience with Python...</td>\n",
       "      <td>[{'text': '8+ years', 'start': 0, 'end': 8, 't...</td>\n",
       "      <td>[{'child': 4, 'head': 0, 'relationLabel': 'EXP...</td>\n",
       "    </tr>\n",
       "    <tr>\n",
       "      <th>6</th>\n",
       "      <td>Strong problem solving and analytical skills i...</td>\n",
       "      <td>[{'text': '2+ years', 'start': 773, 'end': 781...</td>\n",
       "      <td>[{'child': 129, 'head': 125, 'relationLabel': ...</td>\n",
       "    </tr>\n",
       "    <tr>\n",
       "      <th>7</th>\n",
       "      <td>Experience in backend services, systems, and d...</td>\n",
       "      <td>[{'text': 'BS/MS', 'start': 66, 'end': 71, 'to...</td>\n",
       "      <td>[{'child': 15, 'head': 11, 'relationLabel': 'D...</td>\n",
       "    </tr>\n",
       "    <tr>\n",
       "      <th>8</th>\n",
       "      <td>experience: 5 + years of full-stack software d...</td>\n",
       "      <td>[{'text': '5 + years', 'start': 12, 'end': 21,...</td>\n",
       "      <td>[{'child': 6, 'head': 2, 'relationLabel': 'EXP...</td>\n",
       "    </tr>\n",
       "    <tr>\n",
       "      <th>9</th>\n",
       "      <td>BS in Electrical Engineering or Computer Engin...</td>\n",
       "      <td>[{'text': 'BS', 'start': 0, 'end': 2, 'token_s...</td>\n",
       "      <td>[{'child': 2, 'head': 0, 'relationLabel': 'DEG...</td>\n",
       "    </tr>\n",
       "    <tr>\n",
       "      <th>10</th>\n",
       "      <td>Basic : Programming experience in C#, Java, or...</td>\n",
       "      <td>[{'text': 'BS', 'start': 51, 'end': 53, 'token...</td>\n",
       "      <td>[{'child': 14, 'head': 12, 'relationLabel': 'D...</td>\n",
       "    </tr>\n",
       "    <tr>\n",
       "      <th>11</th>\n",
       "      <td>Bachelor's Degree in Computing Science or a re...</td>\n",
       "      <td>[{'text': 'Bachelor', 'start': 0, 'end': 8, 't...</td>\n",
       "      <td>[{'child': 4, 'head': 0, 'relationLabel': 'DEG...</td>\n",
       "    </tr>\n",
       "    <tr>\n",
       "      <th>12</th>\n",
       "      <td>1+ years development experience on Java stack ...</td>\n",
       "      <td>[{'text': '1+ years', 'start': 0, 'end': 8, 't...</td>\n",
       "      <td>[{'child': 3, 'head': 0, 'relationLabel': 'EXP...</td>\n",
       "    </tr>\n",
       "    <tr>\n",
       "      <th>13</th>\n",
       "      <td>\\n5+ years of software engineering work experi...</td>\n",
       "      <td>[{'text': '5+ years', 'start': 1, 'end': 9, 't...</td>\n",
       "      <td>[{'child': 5, 'head': 1, 'relationLabel': 'EXP...</td>\n",
       "    </tr>\n",
       "    <tr>\n",
       "      <th>14</th>\n",
       "      <td>Experience being technical, hands-on and a peo...</td>\n",
       "      <td>[{'text': '8+ years', 'start': 425, 'end': 433...</td>\n",
       "      <td>[{'child': 73, 'head': 66, 'relationLabel': 'E...</td>\n",
       "    </tr>\n",
       "    <tr>\n",
       "      <th>15</th>\n",
       "      <td>Experience with Golang (Go Programming Languag...</td>\n",
       "      <td>[]</td>\n",
       "      <td>[]</td>\n",
       "    </tr>\n",
       "    <tr>\n",
       "      <th>16</th>\n",
       "      <td>Experience with C/C++ and Python. Experience w...</td>\n",
       "      <td>[]</td>\n",
       "      <td>[]</td>\n",
       "    </tr>\n",
       "    <tr>\n",
       "      <th>17</th>\n",
       "      <td>Basic : A BS/MS in Computer Science or related...</td>\n",
       "      <td>[{'text': 'BS/MS', 'start': 10, 'end': 15, 'to...</td>\n",
       "      <td>[{'child': 7, 'head': 3, 'relationLabel': 'DEG...</td>\n",
       "    </tr>\n",
       "    <tr>\n",
       "      <th>18</th>\n",
       "      <td>Skills &amp; : Exceptional management skills, with...</td>\n",
       "      <td>[{'text': 'BA/BS degree', 'start': 447, 'end':...</td>\n",
       "      <td>[{'child': 82, 'head': 77, 'relationLabel': 'D...</td>\n",
       "    </tr>\n",
       "    <tr>\n",
       "      <th>19</th>\n",
       "      <td>include: Bachelor of Mechanical Engineering or...</td>\n",
       "      <td>[{'text': 'Bachelor', 'start': 9, 'end': 17, '...</td>\n",
       "      <td>[{'child': 4, 'head': 2, 'relationLabel': 'DEG...</td>\n",
       "    </tr>\n",
       "    <tr>\n",
       "      <th>20</th>\n",
       "      <td>A successful member of our team will have: 5 +...</td>\n",
       "      <td>[{'text': '5 + years', 'start': 43, 'end': 52,...</td>\n",
       "      <td>[{'child': 13, 'head': 9, 'relationLabel': 'EX...</td>\n",
       "    </tr>\n",
       "    <tr>\n",
       "      <th>21</th>\n",
       "      <td>BA/BS degree 7+ years experience in brand and/...</td>\n",
       "      <td>[{'text': '7+ years', 'start': 13, 'end': 21, ...</td>\n",
       "      <td>[{'child': 9, 'head': 4, 'relationLabel': 'EXP...</td>\n",
       "    </tr>\n",
       "  </tbody>\n",
       "</table>\n",
       "</div>"
      ],
      "text/plain": [
       "                                             document  \\\n",
       "0   Bachelor's degree in Mechanical Engineering or...   \n",
       "1   10+ years of software engineering work experie...   \n",
       "2   3+ years Swift & Objective-C and experience wi...   \n",
       "3   8+ years experience in software engineering le...   \n",
       "4   BS degree in Computer Science or related field...   \n",
       "5   8+ years of development experience with Python...   \n",
       "6   Strong problem solving and analytical skills i...   \n",
       "7   Experience in backend services, systems, and d...   \n",
       "8   experience: 5 + years of full-stack software d...   \n",
       "9   BS in Electrical Engineering or Computer Engin...   \n",
       "10  Basic : Programming experience in C#, Java, or...   \n",
       "11  Bachelor's Degree in Computing Science or a re...   \n",
       "12  1+ years development experience on Java stack ...   \n",
       "13  \\n5+ years of software engineering work experi...   \n",
       "14  Experience being technical, hands-on and a peo...   \n",
       "15  Experience with Golang (Go Programming Languag...   \n",
       "16  Experience with C/C++ and Python. Experience w...   \n",
       "17  Basic : A BS/MS in Computer Science or related...   \n",
       "18  Skills & : Exceptional management skills, with...   \n",
       "19  include: Bachelor of Mechanical Engineering or...   \n",
       "20  A successful member of our team will have: 5 +...   \n",
       "21  BA/BS degree 7+ years experience in brand and/...   \n",
       "\n",
       "                                               tokens  \\\n",
       "0   [{'text': 'Bachelor', 'start': 0, 'end': 8, 't...   \n",
       "1   [{'text': '10+ years', 'start': 0, 'end': 9, '...   \n",
       "2   [{'text': '3+ years', 'start': 0, 'end': 8, 't...   \n",
       "3   [{'text': '8+ years', 'start': 0, 'end': 8, 't...   \n",
       "4   [{'text': 'BS', 'start': 0, 'end': 2, 'token_s...   \n",
       "5   [{'text': '8+ years', 'start': 0, 'end': 8, 't...   \n",
       "6   [{'text': '2+ years', 'start': 773, 'end': 781...   \n",
       "7   [{'text': 'BS/MS', 'start': 66, 'end': 71, 'to...   \n",
       "8   [{'text': '5 + years', 'start': 12, 'end': 21,...   \n",
       "9   [{'text': 'BS', 'start': 0, 'end': 2, 'token_s...   \n",
       "10  [{'text': 'BS', 'start': 51, 'end': 53, 'token...   \n",
       "11  [{'text': 'Bachelor', 'start': 0, 'end': 8, 't...   \n",
       "12  [{'text': '1+ years', 'start': 0, 'end': 8, 't...   \n",
       "13  [{'text': '5+ years', 'start': 1, 'end': 9, 't...   \n",
       "14  [{'text': '8+ years', 'start': 425, 'end': 433...   \n",
       "15                                                 []   \n",
       "16                                                 []   \n",
       "17  [{'text': 'BS/MS', 'start': 10, 'end': 15, 'to...   \n",
       "18  [{'text': 'BA/BS degree', 'start': 447, 'end':...   \n",
       "19  [{'text': 'Bachelor', 'start': 9, 'end': 17, '...   \n",
       "20  [{'text': '5 + years', 'start': 43, 'end': 52,...   \n",
       "21  [{'text': '7+ years', 'start': 13, 'end': 21, ...   \n",
       "\n",
       "                                            relations  \n",
       "0   [{'child': 4, 'head': 0, 'relationLabel': 'DEG...  \n",
       "1   [{'child': 4, 'head': 0, 'relationLabel': 'EXP...  \n",
       "2   [{'child': 3, 'head': 0, 'relationLabel': 'EXP...  \n",
       "3   [{'child': 5, 'head': 0, 'relationLabel': 'EXP...  \n",
       "4   [{'child': 3, 'head': 0, 'relationLabel': 'DEG...  \n",
       "5   [{'child': 4, 'head': 0, 'relationLabel': 'EXP...  \n",
       "6   [{'child': 129, 'head': 125, 'relationLabel': ...  \n",
       "7   [{'child': 15, 'head': 11, 'relationLabel': 'D...  \n",
       "8   [{'child': 6, 'head': 2, 'relationLabel': 'EXP...  \n",
       "9   [{'child': 2, 'head': 0, 'relationLabel': 'DEG...  \n",
       "10  [{'child': 14, 'head': 12, 'relationLabel': 'D...  \n",
       "11  [{'child': 4, 'head': 0, 'relationLabel': 'DEG...  \n",
       "12  [{'child': 3, 'head': 0, 'relationLabel': 'EXP...  \n",
       "13  [{'child': 5, 'head': 1, 'relationLabel': 'EXP...  \n",
       "14  [{'child': 73, 'head': 66, 'relationLabel': 'E...  \n",
       "15                                                 []  \n",
       "16                                                 []  \n",
       "17  [{'child': 7, 'head': 3, 'relationLabel': 'DEG...  \n",
       "18  [{'child': 82, 'head': 77, 'relationLabel': 'D...  \n",
       "19  [{'child': 4, 'head': 2, 'relationLabel': 'DEG...  \n",
       "20  [{'child': 13, 'head': 9, 'relationLabel': 'EX...  \n",
       "21  [{'child': 9, 'head': 4, 'relationLabel': 'EXP...  "
      ]
     },
     "execution_count": 4,
     "metadata": {},
     "output_type": "execute_result"
    }
   ],
   "source": [
    "train_df"
   ]
  },
  {
   "cell_type": "code",
   "execution_count": 8,
   "metadata": {},
   "outputs": [],
   "source": [
    "train_df['label'] = train_df['tokens'].apply(process_tokens)\n",
    "test_df['label'] = test_df['tokens'].apply(process_tokens)"
   ]
  },
  {
   "cell_type": "code",
   "execution_count": 10,
   "metadata": {},
   "outputs": [
    {
     "data": {
      "text/plain": [
       "'DIPLOMA:Bachelor\\nDIPLOMA_MAJOR:Mechanical Engineering,Physical Science\\nEXPERIENCE:3+ years\\nSKILLS:developing,fiber optic cables,connector related products\\n'"
      ]
     },
     "execution_count": 10,
     "metadata": {},
     "output_type": "execute_result"
    }
   ],
   "source": [
    "train_df['label'][0]"
   ]
  },
  {
   "cell_type": "markdown",
   "metadata": {},
   "source": [
    "<b>`Preprocessing`<b>"
   ]
  },
  {
   "cell_type": "code",
   "execution_count": 17,
   "metadata": {},
   "outputs": [
    {
     "name": "stdout",
     "output_type": "stream",
     "text": [
      "Preprocess Done\n"
     ]
    }
   ],
   "source": [
    "train_txt = []\n",
    "for i in range(train_df.shape[0]):\n",
    "    ent = train_df.label.iloc[i]\n",
    "    docu = train_df.document.iloc[i].replace(\"\\n\",\" \")\n",
    "    if len(ent)!=0:\n",
    "        train_txt.append(docu+\"\\n\\nExtracted Text:\" +\n",
    "                        '\\n'+ent+\"----\\n\")\n",
    "    \n",
    "with open('../data/entities.txt','w') as f:\n",
    "    for item in train_txt:\n",
    "        # write each item on a new line\n",
    "        f.write(\"%s\\n\" % item.strip())\n",
    "    print('Preprocess Done')"
   ]
  },
  {
   "cell_type": "code",
   "execution_count": 16,
   "metadata": {},
   "outputs": [
    {
     "data": {
      "text/plain": [
       "'\\nCurrently holding a faculty, industry, or government researcher position.\\nPh.D. and publications in machine learning, AI, computer science, statistics, applied mathematics, data science, or related technical fields.\\nExperience leading a team in solving analytical problems using quantitative approaches.\\nExperience manipulating and analyzing data from different sources.\\nExperience in theoretical and empirical research and for answering questions with research.\\nAbility to communicate research for public audiences of peers.\\nKnowledge in a programming language.\\nAbility to obtain and maintain work authorization in the country of employment in 2018.\\n\\nPREFERRED \\n1+ year(s) of work experience in a university, industry, or government lab(s), in a role with primary emphasis on AI research.\\nExperience driving original scholarship in collaboration with a team.\\nFirst-author publications at peer-reviewed AI conferences (e.g. NIPS, CVPR, ICML, ICLR, ICCV, and ACL).\\nExperience in developing and debugging in C/C++, Python, C# and/or Java.'"
      ]
     },
     "execution_count": 16,
     "metadata": {},
     "output_type": "execute_result"
    }
   ],
   "source": [
    "test_df.document[0]"
   ]
  },
  {
   "cell_type": "code",
   "execution_count": 18,
   "metadata": {},
   "outputs": [],
   "source": [
    "test_txt = test_df.document.apply(\n",
    "    lambda x: x.replace(\"\\n\", \" \")+'\\n\\nExtracted Text:').to_list()"
   ]
  },
  {
   "cell_type": "markdown",
   "metadata": {},
   "source": [
    "<b>`Get API key`<b>"
   ]
  },
  {
   "cell_type": "code",
   "execution_count": 4,
   "metadata": {},
   "outputs": [],
   "source": [
    "sys.path.append('../')\n",
    "\n",
    "from  config import api_cohere\n",
    "api_key= api_cohere['api_key']\n",
    "# api_key = pd.read_json(\"../config/apikey.json\")['cohere_key'][0]\n",
    "co = cohere.Client(api_key)"
   ]
  },
  {
   "cell_type": "markdown",
   "metadata": {},
   "source": [
    "<b>`Run the model`<b>"
   ]
  },
  {
   "cell_type": "code",
   "execution_count": null,
   "metadata": {},
   "outputs": [],
   "source": []
  }
 ],
 "metadata": {
  "kernelspec": {
   "display_name": "Python 3.8.13 ('10Academy')",
   "language": "python",
   "name": "python3"
  },
  "language_info": {
   "codemirror_mode": {
    "name": "ipython",
    "version": 3
   },
   "file_extension": ".py",
   "mimetype": "text/x-python",
   "name": "python",
   "nbconvert_exporter": "python",
   "pygments_lexer": "ipython3",
   "version": "3.8.13"
  },
  "orig_nbformat": 4,
  "vscode": {
   "interpreter": {
    "hash": "5192764363ba388e8b5cea2a19d429bb0c0cfdab6b6a8c17b83680a2efed3a76"
   }
  }
 },
 "nbformat": 4,
 "nbformat_minor": 2
}
