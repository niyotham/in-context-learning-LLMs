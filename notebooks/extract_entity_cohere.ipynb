{
 "cells": [
  {
   "cell_type": "code",
   "execution_count": 43,
   "metadata": {},
   "outputs": [
    {
     "name": "stdout",
     "output_type": "stream",
     "text": [
      "Preprocess function called\n"
     ]
    }
   ],
   "source": [
    "import cohere\n",
    "import pandas as pd\n",
    "import requests\n",
    "import datetime\n",
    "from tqdm import tqdm\n",
    "import sys\n",
    "sys.path.append('../')\n",
    "import sys\n",
    "import os\n",
    "from scripts.processing import process_tokens\n",
    "import cohere\n",
    "sys.path.append(os.path.abspath(os.path.join(\"../scripts\")))\n",
    "from preprocess_utils import Preporcess\n",
    "# from prompt_preprocess import TestPreprocess\n",
    "from difflib import SequenceMatcher\n",
    "# prompt_prp = TestPreprocess()\n",
    "pre_proc = Preporcess()\n"
   ]
  },
  {
   "cell_type": "code",
   "execution_count": 2,
   "metadata": {},
   "outputs": [],
   "source": [
    "train_df = pd.read_json('../data/job_description_train.json')\n",
    "test_df = pd.read_json('../data/job_description_test.json')"
   ]
  },
  {
   "cell_type": "code",
   "execution_count": 3,
   "metadata": {},
   "outputs": [
    {
     "data": {
      "text/html": [
       "<div>\n",
       "<style scoped>\n",
       "    .dataframe tbody tr th:only-of-type {\n",
       "        vertical-align: middle;\n",
       "    }\n",
       "\n",
       "    .dataframe tbody tr th {\n",
       "        vertical-align: top;\n",
       "    }\n",
       "\n",
       "    .dataframe thead th {\n",
       "        text-align: right;\n",
       "    }\n",
       "</style>\n",
       "<table border=\"1\" class=\"dataframe\">\n",
       "  <thead>\n",
       "    <tr style=\"text-align: right;\">\n",
       "      <th></th>\n",
       "      <th>document</th>\n",
       "      <th>tokens</th>\n",
       "      <th>relations</th>\n",
       "    </tr>\n",
       "  </thead>\n",
       "  <tbody>\n",
       "    <tr>\n",
       "      <th>0</th>\n",
       "      <td>Bachelor's degree in Mechanical Engineering or...</td>\n",
       "      <td>[{'text': 'Bachelor', 'start': 0, 'end': 8, 't...</td>\n",
       "      <td>[{'child': 4, 'head': 0, 'relationLabel': 'DEG...</td>\n",
       "    </tr>\n",
       "    <tr>\n",
       "      <th>1</th>\n",
       "      <td>10+ years of software engineering work experie...</td>\n",
       "      <td>[{'text': '10+ years', 'start': 0, 'end': 9, '...</td>\n",
       "      <td>[{'child': 4, 'head': 0, 'relationLabel': 'EXP...</td>\n",
       "    </tr>\n",
       "    <tr>\n",
       "      <th>2</th>\n",
       "      <td>3+ years Swift &amp; Objective-C and experience wi...</td>\n",
       "      <td>[{'text': '3+ years', 'start': 0, 'end': 8, 't...</td>\n",
       "      <td>[{'child': 3, 'head': 0, 'relationLabel': 'EXP...</td>\n",
       "    </tr>\n",
       "    <tr>\n",
       "      <th>3</th>\n",
       "      <td>8+ years experience in software engineering le...</td>\n",
       "      <td>[{'text': '8+ years', 'start': 0, 'end': 8, 't...</td>\n",
       "      <td>[{'child': 5, 'head': 0, 'relationLabel': 'EXP...</td>\n",
       "    </tr>\n",
       "    <tr>\n",
       "      <th>4</th>\n",
       "      <td>BS degree in Computer Science or related field...</td>\n",
       "      <td>[{'text': 'BS', 'start': 0, 'end': 2, 'token_s...</td>\n",
       "      <td>[{'child': 3, 'head': 0, 'relationLabel': 'DEG...</td>\n",
       "    </tr>\n",
       "    <tr>\n",
       "      <th>5</th>\n",
       "      <td>8+ years of development experience with Python...</td>\n",
       "      <td>[{'text': '8+ years', 'start': 0, 'end': 8, 't...</td>\n",
       "      <td>[{'child': 4, 'head': 0, 'relationLabel': 'EXP...</td>\n",
       "    </tr>\n",
       "    <tr>\n",
       "      <th>6</th>\n",
       "      <td>Strong problem solving and analytical skills i...</td>\n",
       "      <td>[{'text': '2+ years', 'start': 773, 'end': 781...</td>\n",
       "      <td>[{'child': 129, 'head': 125, 'relationLabel': ...</td>\n",
       "    </tr>\n",
       "    <tr>\n",
       "      <th>7</th>\n",
       "      <td>Experience in backend services, systems, and d...</td>\n",
       "      <td>[{'text': 'BS/MS', 'start': 66, 'end': 71, 'to...</td>\n",
       "      <td>[{'child': 15, 'head': 11, 'relationLabel': 'D...</td>\n",
       "    </tr>\n",
       "    <tr>\n",
       "      <th>8</th>\n",
       "      <td>experience: 5 + years of full-stack software d...</td>\n",
       "      <td>[{'text': '5 + years', 'start': 12, 'end': 21,...</td>\n",
       "      <td>[{'child': 6, 'head': 2, 'relationLabel': 'EXP...</td>\n",
       "    </tr>\n",
       "    <tr>\n",
       "      <th>9</th>\n",
       "      <td>BS in Electrical Engineering or Computer Engin...</td>\n",
       "      <td>[{'text': 'BS', 'start': 0, 'end': 2, 'token_s...</td>\n",
       "      <td>[{'child': 2, 'head': 0, 'relationLabel': 'DEG...</td>\n",
       "    </tr>\n",
       "    <tr>\n",
       "      <th>10</th>\n",
       "      <td>Basic : Programming experience in C#, Java, or...</td>\n",
       "      <td>[{'text': 'BS', 'start': 51, 'end': 53, 'token...</td>\n",
       "      <td>[{'child': 14, 'head': 12, 'relationLabel': 'D...</td>\n",
       "    </tr>\n",
       "    <tr>\n",
       "      <th>11</th>\n",
       "      <td>Bachelor's Degree in Computing Science or a re...</td>\n",
       "      <td>[{'text': 'Bachelor', 'start': 0, 'end': 8, 't...</td>\n",
       "      <td>[{'child': 4, 'head': 0, 'relationLabel': 'DEG...</td>\n",
       "    </tr>\n",
       "    <tr>\n",
       "      <th>12</th>\n",
       "      <td>1+ years development experience on Java stack ...</td>\n",
       "      <td>[{'text': '1+ years', 'start': 0, 'end': 8, 't...</td>\n",
       "      <td>[{'child': 3, 'head': 0, 'relationLabel': 'EXP...</td>\n",
       "    </tr>\n",
       "    <tr>\n",
       "      <th>13</th>\n",
       "      <td>\\n5+ years of software engineering work experi...</td>\n",
       "      <td>[{'text': '5+ years', 'start': 1, 'end': 9, 't...</td>\n",
       "      <td>[{'child': 5, 'head': 1, 'relationLabel': 'EXP...</td>\n",
       "    </tr>\n",
       "    <tr>\n",
       "      <th>14</th>\n",
       "      <td>Experience being technical, hands-on and a peo...</td>\n",
       "      <td>[{'text': '8+ years', 'start': 425, 'end': 433...</td>\n",
       "      <td>[{'child': 73, 'head': 66, 'relationLabel': 'E...</td>\n",
       "    </tr>\n",
       "    <tr>\n",
       "      <th>15</th>\n",
       "      <td>Experience with Golang (Go Programming Languag...</td>\n",
       "      <td>[]</td>\n",
       "      <td>[]</td>\n",
       "    </tr>\n",
       "    <tr>\n",
       "      <th>16</th>\n",
       "      <td>Experience with C/C++ and Python. Experience w...</td>\n",
       "      <td>[]</td>\n",
       "      <td>[]</td>\n",
       "    </tr>\n",
       "    <tr>\n",
       "      <th>17</th>\n",
       "      <td>Basic : A BS/MS in Computer Science or related...</td>\n",
       "      <td>[{'text': 'BS/MS', 'start': 10, 'end': 15, 'to...</td>\n",
       "      <td>[{'child': 7, 'head': 3, 'relationLabel': 'DEG...</td>\n",
       "    </tr>\n",
       "    <tr>\n",
       "      <th>18</th>\n",
       "      <td>Skills &amp; : Exceptional management skills, with...</td>\n",
       "      <td>[{'text': 'BA/BS degree', 'start': 447, 'end':...</td>\n",
       "      <td>[{'child': 82, 'head': 77, 'relationLabel': 'D...</td>\n",
       "    </tr>\n",
       "    <tr>\n",
       "      <th>19</th>\n",
       "      <td>include: Bachelor of Mechanical Engineering or...</td>\n",
       "      <td>[{'text': 'Bachelor', 'start': 9, 'end': 17, '...</td>\n",
       "      <td>[{'child': 4, 'head': 2, 'relationLabel': 'DEG...</td>\n",
       "    </tr>\n",
       "    <tr>\n",
       "      <th>20</th>\n",
       "      <td>A successful member of our team will have: 5 +...</td>\n",
       "      <td>[{'text': '5 + years', 'start': 43, 'end': 52,...</td>\n",
       "      <td>[{'child': 13, 'head': 9, 'relationLabel': 'EX...</td>\n",
       "    </tr>\n",
       "    <tr>\n",
       "      <th>21</th>\n",
       "      <td>BA/BS degree 7+ years experience in brand and/...</td>\n",
       "      <td>[{'text': '7+ years', 'start': 13, 'end': 21, ...</td>\n",
       "      <td>[{'child': 9, 'head': 4, 'relationLabel': 'EXP...</td>\n",
       "    </tr>\n",
       "  </tbody>\n",
       "</table>\n",
       "</div>"
      ],
      "text/plain": [
       "                                             document  \\\n",
       "0   Bachelor's degree in Mechanical Engineering or...   \n",
       "1   10+ years of software engineering work experie...   \n",
       "2   3+ years Swift & Objective-C and experience wi...   \n",
       "3   8+ years experience in software engineering le...   \n",
       "4   BS degree in Computer Science or related field...   \n",
       "5   8+ years of development experience with Python...   \n",
       "6   Strong problem solving and analytical skills i...   \n",
       "7   Experience in backend services, systems, and d...   \n",
       "8   experience: 5 + years of full-stack software d...   \n",
       "9   BS in Electrical Engineering or Computer Engin...   \n",
       "10  Basic : Programming experience in C#, Java, or...   \n",
       "11  Bachelor's Degree in Computing Science or a re...   \n",
       "12  1+ years development experience on Java stack ...   \n",
       "13  \\n5+ years of software engineering work experi...   \n",
       "14  Experience being technical, hands-on and a peo...   \n",
       "15  Experience with Golang (Go Programming Languag...   \n",
       "16  Experience with C/C++ and Python. Experience w...   \n",
       "17  Basic : A BS/MS in Computer Science or related...   \n",
       "18  Skills & : Exceptional management skills, with...   \n",
       "19  include: Bachelor of Mechanical Engineering or...   \n",
       "20  A successful member of our team will have: 5 +...   \n",
       "21  BA/BS degree 7+ years experience in brand and/...   \n",
       "\n",
       "                                               tokens  \\\n",
       "0   [{'text': 'Bachelor', 'start': 0, 'end': 8, 't...   \n",
       "1   [{'text': '10+ years', 'start': 0, 'end': 9, '...   \n",
       "2   [{'text': '3+ years', 'start': 0, 'end': 8, 't...   \n",
       "3   [{'text': '8+ years', 'start': 0, 'end': 8, 't...   \n",
       "4   [{'text': 'BS', 'start': 0, 'end': 2, 'token_s...   \n",
       "5   [{'text': '8+ years', 'start': 0, 'end': 8, 't...   \n",
       "6   [{'text': '2+ years', 'start': 773, 'end': 781...   \n",
       "7   [{'text': 'BS/MS', 'start': 66, 'end': 71, 'to...   \n",
       "8   [{'text': '5 + years', 'start': 12, 'end': 21,...   \n",
       "9   [{'text': 'BS', 'start': 0, 'end': 2, 'token_s...   \n",
       "10  [{'text': 'BS', 'start': 51, 'end': 53, 'token...   \n",
       "11  [{'text': 'Bachelor', 'start': 0, 'end': 8, 't...   \n",
       "12  [{'text': '1+ years', 'start': 0, 'end': 8, 't...   \n",
       "13  [{'text': '5+ years', 'start': 1, 'end': 9, 't...   \n",
       "14  [{'text': '8+ years', 'start': 425, 'end': 433...   \n",
       "15                                                 []   \n",
       "16                                                 []   \n",
       "17  [{'text': 'BS/MS', 'start': 10, 'end': 15, 'to...   \n",
       "18  [{'text': 'BA/BS degree', 'start': 447, 'end':...   \n",
       "19  [{'text': 'Bachelor', 'start': 9, 'end': 17, '...   \n",
       "20  [{'text': '5 + years', 'start': 43, 'end': 52,...   \n",
       "21  [{'text': '7+ years', 'start': 13, 'end': 21, ...   \n",
       "\n",
       "                                            relations  \n",
       "0   [{'child': 4, 'head': 0, 'relationLabel': 'DEG...  \n",
       "1   [{'child': 4, 'head': 0, 'relationLabel': 'EXP...  \n",
       "2   [{'child': 3, 'head': 0, 'relationLabel': 'EXP...  \n",
       "3   [{'child': 5, 'head': 0, 'relationLabel': 'EXP...  \n",
       "4   [{'child': 3, 'head': 0, 'relationLabel': 'DEG...  \n",
       "5   [{'child': 4, 'head': 0, 'relationLabel': 'EXP...  \n",
       "6   [{'child': 129, 'head': 125, 'relationLabel': ...  \n",
       "7   [{'child': 15, 'head': 11, 'relationLabel': 'D...  \n",
       "8   [{'child': 6, 'head': 2, 'relationLabel': 'EXP...  \n",
       "9   [{'child': 2, 'head': 0, 'relationLabel': 'DEG...  \n",
       "10  [{'child': 14, 'head': 12, 'relationLabel': 'D...  \n",
       "11  [{'child': 4, 'head': 0, 'relationLabel': 'DEG...  \n",
       "12  [{'child': 3, 'head': 0, 'relationLabel': 'EXP...  \n",
       "13  [{'child': 5, 'head': 1, 'relationLabel': 'EXP...  \n",
       "14  [{'child': 73, 'head': 66, 'relationLabel': 'E...  \n",
       "15                                                 []  \n",
       "16                                                 []  \n",
       "17  [{'child': 7, 'head': 3, 'relationLabel': 'DEG...  \n",
       "18  [{'child': 82, 'head': 77, 'relationLabel': 'D...  \n",
       "19  [{'child': 4, 'head': 2, 'relationLabel': 'DEG...  \n",
       "20  [{'child': 13, 'head': 9, 'relationLabel': 'EX...  \n",
       "21  [{'child': 9, 'head': 4, 'relationLabel': 'EXP...  "
      ]
     },
     "execution_count": 3,
     "metadata": {},
     "output_type": "execute_result"
    }
   ],
   "source": [
    "train_df"
   ]
  },
  {
   "cell_type": "code",
   "execution_count": 4,
   "metadata": {},
   "outputs": [
    {
     "data": {
      "text/plain": [
       "[{'text': 'Bachelor',\n",
       "  'start': 0,\n",
       "  'end': 8,\n",
       "  'token_start': 0,\n",
       "  'token_end': 0,\n",
       "  'entityLabel': 'DIPLOMA'},\n",
       " {'text': 'Mechanical Engineering',\n",
       "  'start': 21,\n",
       "  'end': 43,\n",
       "  'token_start': 4,\n",
       "  'token_end': 5,\n",
       "  'entityLabel': 'DIPLOMA_MAJOR'},\n",
       " {'text': 'Physical Science',\n",
       "  'start': 47,\n",
       "  'end': 63,\n",
       "  'token_start': 7,\n",
       "  'token_end': 8,\n",
       "  'entityLabel': 'DIPLOMA_MAJOR'},\n",
       " {'text': '3+ years',\n",
       "  'start': 64,\n",
       "  'end': 72,\n",
       "  'token_start': 9,\n",
       "  'token_end': 11,\n",
       "  'entityLabel': 'EXPERIENCE'},\n",
       " {'text': 'developing',\n",
       "  'start': 89,\n",
       "  'end': 99,\n",
       "  'token_start': 15,\n",
       "  'token_end': 15,\n",
       "  'entityLabel': 'SKILLS'},\n",
       " {'text': 'fiber optic cables',\n",
       "  'start': 114,\n",
       "  'end': 132,\n",
       "  'token_start': 18,\n",
       "  'token_end': 20,\n",
       "  'entityLabel': 'SKILLS'},\n",
       " {'text': 'connector related products',\n",
       "  'start': 137,\n",
       "  'end': 163,\n",
       "  'token_start': 22,\n",
       "  'token_end': 24,\n",
       "  'entityLabel': 'SKILLS'}]"
      ]
     },
     "execution_count": 4,
     "metadata": {},
     "output_type": "execute_result"
    }
   ],
   "source": [
    "train_df['tokens'][0]"
   ]
  },
  {
   "cell_type": "code",
   "execution_count": 5,
   "metadata": {},
   "outputs": [],
   "source": [
    "train_df['label'] = train_df['tokens'].apply(process_tokens)\n",
    "test_df['label'] = test_df['tokens'].apply(process_tokens)"
   ]
  },
  {
   "cell_type": "code",
   "execution_count": 6,
   "metadata": {},
   "outputs": [
    {
     "data": {
      "text/plain": [
       "'DIPLOMA:Bachelor\\nDIPLOMA_MAJOR:Mechanical Engineering,Physical Science\\nEXPERIENCE:3+ years\\nSKILLS:developing,fiber optic cables,connector related products\\n'"
      ]
     },
     "execution_count": 6,
     "metadata": {},
     "output_type": "execute_result"
    }
   ],
   "source": [
    "train_df['label'][0]"
   ]
  },
  {
   "cell_type": "code",
   "execution_count": 7,
   "metadata": {},
   "outputs": [
    {
     "data": {
      "text/plain": [
       "\"Bachelor's degree in Mechanical Engineering or Physical Science 3+ years track record of developing or specifying fiber optic cables and connector related products Knowledge of fiber optic component, cabling, and interconnect products, technologies, and standards Experience in statistical data analysis Experience with product life cycle management (PLM) process Experience providing solutions to problems and meeting deadlines Experience engaging stakeholders PREFERRED Advanced degree Experience using a software tool for statistical data analysis such as JMP Experience using Agile as product life-cycle management tool Data center or other mission critical development experience\""
      ]
     },
     "execution_count": 7,
     "metadata": {},
     "output_type": "execute_result"
    }
   ],
   "source": [
    "docu = train_df.document.iloc[0].replace(\"\\n\",\" \")\n",
    "docu"
   ]
  },
  {
   "cell_type": "markdown",
   "metadata": {},
   "source": [
    "<b>`Preprocessing`<b>"
   ]
  },
  {
   "cell_type": "code",
   "execution_count": 8,
   "metadata": {},
   "outputs": [
    {
     "name": "stdout",
     "output_type": "stream",
     "text": [
      "Preprocess Done\n"
     ]
    }
   ],
   "source": [
    "train_txt = []\n",
    "for i in range(train_df.shape[0]):\n",
    "    ent = train_df.label.iloc[i]\n",
    "    docu = train_df.document.iloc[i].replace(\"\\n\",\" \")\n",
    "    if len(ent)!=0:\n",
    "        train_txt.append(docu+\"\\n\\nExtracted Text:\" +\n",
    "                        '\\n'+ent+\"----\\n\")\n",
    "    \n",
    "with open('../data/entities.txt','w') as f:\n",
    "    for item in train_txt:\n",
    "        # write each item on a new line\n",
    "        f.write(\"%s\\n\" % item.strip())\n",
    "    print('Preprocess Done')"
   ]
  },
  {
   "cell_type": "code",
   "execution_count": 9,
   "metadata": {},
   "outputs": [
    {
     "data": {
      "text/plain": [
       "'\\nCurrently holding a faculty, industry, or government researcher position.\\nPh.D. and publications in machine learning, AI, computer science, statistics, applied mathematics, data science, or related technical fields.\\nExperience leading a team in solving analytical problems using quantitative approaches.\\nExperience manipulating and analyzing data from different sources.\\nExperience in theoretical and empirical research and for answering questions with research.\\nAbility to communicate research for public audiences of peers.\\nKnowledge in a programming language.\\nAbility to obtain and maintain work authorization in the country of employment in 2018.\\n\\nPREFERRED \\n1+ year(s) of work experience in a university, industry, or government lab(s), in a role with primary emphasis on AI research.\\nExperience driving original scholarship in collaboration with a team.\\nFirst-author publications at peer-reviewed AI conferences (e.g. NIPS, CVPR, ICML, ICLR, ICCV, and ACL).\\nExperience in developing and debugging in C/C++, Python, C# and/or Java.'"
      ]
     },
     "execution_count": 9,
     "metadata": {},
     "output_type": "execute_result"
    }
   ],
   "source": [
    "test_df.document[0]"
   ]
  },
  {
   "cell_type": "code",
   "execution_count": 10,
   "metadata": {},
   "outputs": [
    {
     "data": {
      "text/plain": [
       "[' Currently holding a faculty, industry, or government researcher position. Ph.D. and publications in machine learning, AI, computer science, statistics, applied mathematics, data science, or related technical fields. Experience leading a team in solving analytical problems using quantitative approaches. Experience manipulating and analyzing data from different sources. Experience in theoretical and empirical research and for answering questions with research. Ability to communicate research for public audiences of peers. Knowledge in a programming language. Ability to obtain and maintain work authorization in the country of employment in 2018.  PREFERRED  1+ year(s) of work experience in a university, industry, or government lab(s), in a role with primary emphasis on AI research. Experience driving original scholarship in collaboration with a team. First-author publications at peer-reviewed AI conferences (e.g. NIPS, CVPR, ICML, ICLR, ICCV, and ACL). Experience in developing and debugging in C/C++, Python, C# and/or Java.\\n\\nExtracted Text:']"
      ]
     },
     "execution_count": 10,
     "metadata": {},
     "output_type": "execute_result"
    }
   ],
   "source": [
    "test_txt = test_df.document.apply(\n",
    "    lambda x: x.replace(\"\\n\", \" \")+'\\n\\nExtracted Text:').to_list()\n",
    "test_txt[:1]"
   ]
  },
  {
   "cell_type": "markdown",
   "metadata": {},
   "source": [
    "<b>`Get API key`<b>"
   ]
  },
  {
   "cell_type": "code",
   "execution_count": 11,
   "metadata": {},
   "outputs": [],
   "source": [
    "sys.path.append('../')\n",
    "\n",
    "from  config import api_cohere\n",
    "api_key= api_cohere['api_key']\n",
    "\n",
    "co = cohere.Client(api_key)"
   ]
  },
  {
   "cell_type": "markdown",
   "metadata": {},
   "source": [
    "<b>`Creating the extraction prompt`<b>\n",
    "\n",
    "- We'll create a prompt that demonstrates the task to the model. \n",
    "- The prompt contains the document text, and then presents the input text and asks the model to extract the entity name."
   ]
  },
  {
   "cell_type": "code",
   "execution_count": 12,
   "metadata": {},
   "outputs": [],
   "source": [
    "from scripts.co_prompt_extract import cohereExtractor"
   ]
  },
  {
   "cell_type": "code",
   "execution_count": 15,
   "metadata": {},
   "outputs": [
    {
     "data": {
      "text/plain": [
       "<scripts.co_prompt_extract.cohereExtractor at 0x7fdb9aa35fd0>"
      ]
     },
     "execution_count": 15,
     "metadata": {},
     "output_type": "execute_result"
    }
   ],
   "source": [
    "cohereDocExtractor = cohereExtractor(train_txt[:6],co)"
   ]
  },
  {
   "cell_type": "code",
   "execution_count": 17,
   "metadata": {},
   "outputs": [
    {
     "name": "stdout",
     "output_type": "stream",
     "text": [
      "Bachelor's degree in Mechanical Engineering or Physical Science 3+ years track record of developing or specifying fiber optic cables and connector related products Knowledge of fiber optic component, cabling, and interconnect products, technologies, and standards Experience in statistical data analysis Experience with product life cycle management (PLM) process Experience providing solutions to problems and meeting deadlines Experience engaging stakeholders PREFERRED Advanced degree Experience using a software tool for statistical data analysis such as JMP Experience using Agile as product life-cycle management tool Data center or other mission critical development experience\n",
      "\n",
      "Extracted Text:\n",
      "DIPLOMA:Bachelor\n",
      "DIPLOMA_MAJOR:Mechanical Engineering,Physical Science\n",
      "EXPERIENCE:3+ years\n",
      "SKILLS:developing,fiber optic cables,connector related products\n",
      "----\n",
      "10+ years of software engineering work experience. Technical experience in release automation engineering, CI/CD or related roles. Experience building and leading a software organization through product design, delivery and commercialization of consumer electronics devices. Experience recruiting and managing technical teams, including performance management. BS/MS in Computer Science. Experience in leading timeline, multi-partner initiatives. Organizational communication and coordination experience. PREFERRED 5+ years of experience with hands-on technical management, release engineering, tools engineering, DevOps, or related area.\n",
      "\n",
      "Extracted Text:\n",
      "EXPERIENCE:10+ years,5+ years\n",
      "SKILLS:software engineering,technical management,release engineering,tools engineering,DevOps\n",
      "DIPLOMA:BS/MS\n",
      "DIPLOMA_MAJOR:Computer Science\n",
      "----\n",
      "3+ years Swift & Objective-C and experience with iOS internals Experience building an entire app from scratch and ideally a portfolio of apps featured in the App Store Someone who knows every trick in the book on UI transitions, network communication and memory/battery efficiency Strong UI/design skill experience is a plus\n",
      "\n",
      "Extracted Text:\n",
      "EXPERIENCE:3+ years\n",
      "SKILLS:Swift & Objective-C\n",
      "----\n",
      "8+ years experience in software engineering leadership 5+ years people management experience including managing leaders and managing remotely across regions Strategic thinker with proven track record of transforming operations to provide customer experience through innovation and improvement Track record of working with VP, C-level Executives Experience deploying operational support models across enterprise organizations Communication/presentations experience Experience working with all levels of management internally and externally Experience meeting objectives in an entrepreneurial environment Collaboration and relationship-building experience BA/BS degree or higher\n",
      "\n",
      "Extracted Text:\n",
      "EXPERIENCE:8+ years,5+ years\n",
      "SKILLS:software engineering,people management,managing leaders\n",
      "----\n",
      "BS degree in Computer Science or related field. 7+ years C++ experience, including C++11 features and principles. 5+ years experience creating software for real-time environments such as games or robotics. 2+ years experience managing software engineers. Proven track record of software development, including shipping one or more products on large code bases that span platforms and tools. Problem solving and optimization experience. Communication experience and demonstrated experience working across disciplines and teams to drive solutions. PREFERRED Hands-on experience with 3D computer vision algorithms including Calibration, SLAM, Reconstruction, Mapping, Localization, Sensor Fusion, State Estimation and Image Processing Experience with designing (products or open-source/git software) of inertial/optical sensing devices Publication in leading workshops or conferences such as CVPR, ECCV, ICCV, SIGGRAPH, ICCP, RSS, ICRA, etc.\n",
      "\n",
      "Extracted Text:\n",
      "DIPLOMA:BS\n",
      "DIPLOMA_MAJOR:Computer Science\n",
      "EXPERIENCE:7+ years,5+ years,2+ years\n",
      "SKILLS:C++,C++11,creating software for real-time environments,games,robotics,managing software engineers\n",
      "----\n",
      "8+ years of development experience with Python and Go or C++ Experience with SDN (e.g. OpenFlow, VPP, Open vSwitch) A proven track record of performing on a winning team with a demonstration of bringing products and services to market. A proven track record of system software development. A proven track record of developing software for extremely large scale, distributed environments. A deep understanding of complex system integration and methodologies for proving the correct operation under nominal and faulted conditions of a hyperscale cloud environment. A deep understanding of developing for high availability and its inherent problems. A deep understanding of containers and container clusters such as kubernetes. A deep understanding of virtual machine environment including VMware, KVM, or Xen. Understanding of Open Systems Interconnection Reference Model (OSI-RM), the TCP/IP stack, and development experience in L2, L3, L4. Preferred Tech and Prof Experience Familiarity with networking protocols which might include: BGP, DHCP, DNS, OSPF, IGMP, IPv4/IPv6, IS-IS, and others. Familiarity with Network function virtualization (NFV) functionality and network encapsulation including L4 Load Balancers, Firewalls, etc. Working knowledge of git and CICD tools such as Jenkins and Zuul. EO Statement IBM is committed to creating a diverse environment and is proud to be an equal opportunity employer. All qualified applicants will receive consideration for employment without regard to race, color, religion, gender, gender identity or expression, sexual orientation, national origin, genetics, disability, age, or veteran status. IBM is also committed to compliance with all fair employment practices regarding citizenship and immigration status. .\n",
      "\n",
      "Extracted Text:\n",
      "EXPERIENCE:8+ years\n",
      "SKILLS:development,Python,C++\n",
      "----\n",
      "Bachelor's degree in Mechanical Engineering or Physical Science 3+ years track record of developing or specifying fiber optic cables and connector related products Knowledge of fiber optic component, cabling, and interconnect products, technologies, and standards Experience in statistical data analysis Experience with product life cycle management (PLM) process Experience providing solutions to problems and meeting deadlines Experience engaging stakeholders PREFERRED Advanced degree Experience using a software tool for statistical data analysis such as JMP Experience using Agile as product life-cycle management tool Data center or other mission critical development experience\n",
      "\n",
      "Extracted Text:\n",
      "DIPLOMA:Bachelor\n",
      "DIPLOMA_MAJOR:Mechanical Engineering,Physical Science\n",
      "EXPERIENCE:3+ years\n",
      "SKILLS:developing,fiber optic cables,connector related products\n",
      "----\n",
      "\n"
     ]
    }
   ],
   "source": [
    "# This is what the prompt looks like:\n",
    "print(cohereDocExtractor.make_prompt(train_txt[0]))"
   ]
  },
  {
   "cell_type": "markdown",
   "metadata": {},
   "source": [
    "<b>`Run the model`<b>"
   ]
  },
  {
   "cell_type": "markdown",
   "metadata": {},
   "source": [
    "let's now we loop over the posts and process each one of them with our extractor"
   ]
  },
  {
   "cell_type": "code",
   "execution_count": 18,
   "metadata": {},
   "outputs": [
    {
     "name": "stderr",
     "output_type": "stream",
     "text": [
      "  9%|▉         | 1/11 [00:02<00:26,  2.64s/it]"
     ]
    },
    {
     "name": "stdout",
     "output_type": "stream",
     "text": [
      "\n",
      "EXPERIENCE:1+ year(s)\n",
      "SKILLS:research,machine learning,AI,computer science,statistics,applied mathematics,data science,research\n",
      "---\n"
     ]
    },
    {
     "name": "stderr",
     "output_type": "stream",
     "text": [
      " 18%|█▊        | 2/11 [00:05<00:23,  2.60s/it]"
     ]
    },
    {
     "name": "stdout",
     "output_type": "stream",
     "text": [
      "\n",
      "DIPLOMA:Bachelor\n",
      "DIPLOMA_MAJOR:Economics,Statistics,Political Science,History,Psychology\n",
      "EXPERIENCE:2+ years\n",
      "SKILLS:presenting\n"
     ]
    },
    {
     "name": "stderr",
     "output_type": "stream",
     "text": [
      " 27%|██▋       | 3/11 [00:07<00:20,  2.50s/it]"
     ]
    },
    {
     "name": "stdout",
     "output_type": "stream",
     "text": [
      "\n",
      "EXPERIENCE:5+ years\n",
      "SKILLS:program or project management,technical project/program management,communication experience,experience interacting with a variety of audiences,experience gathering requirements,experience defining scope\n",
      "---\n"
     ]
    },
    {
     "name": "stderr",
     "output_type": "stream",
     "text": [
      " 36%|███▋      | 4/11 [00:10<00:17,  2.51s/it]"
     ]
    },
    {
     "name": "stdout",
     "output_type": "stream",
     "text": [
      "\n",
      "DIPLOMA:Pursuing a Ph.D. degree\n",
      "DIPLOMA_MAJOR:Computer Science\n",
      "EXPERIENCE:Currently enrolled in a full-time degree program\n",
      "SKILLS:machin\n"
     ]
    },
    {
     "name": "stderr",
     "output_type": "stream",
     "text": [
      " 45%|████▌     | 5/11 [00:12<00:14,  2.50s/it]"
     ]
    },
    {
     "name": "stdout",
     "output_type": "stream",
     "text": [
      "\n",
      "DIPLOMA:Pursuing a Ph.D.\n",
      "DIPLOMA_MAJOR:Computer Science\n",
      "EXPERIENCE:0+ years\n",
      "SKILLS:machine learning,AI,computer vision\n"
     ]
    },
    {
     "name": "stderr",
     "output_type": "stream",
     "text": [
      " 55%|█████▍    | 6/11 [00:15<00:12,  2.48s/it]"
     ]
    },
    {
     "name": "stdout",
     "output_type": "stream",
     "text": [
      "\n",
      "EXPERIENCE:7+ years\n",
      "SKILLS:MS,Operations Research,Computer Science,Quantitative Finance,Math,Physics,Engineering\n",
      "---\n"
     ]
    },
    {
     "name": "stderr",
     "output_type": "stream",
     "text": [
      " 64%|██████▎   | 7/11 [00:17<00:09,  2.49s/it]"
     ]
    },
    {
     "name": "stdout",
     "output_type": "stream",
     "text": [
      "\n",
      "EXPERIENCE:5+ years,7+ years,10+ years\n",
      "SKILLS:Physics,Electrical Engineering,Computer Science,Architecting,developing,launching hardware/software projects,services\n",
      "---\n"
     ]
    },
    {
     "name": "stderr",
     "output_type": "stream",
     "text": [
      " 73%|███████▎  | 8/11 [01:21<01:06, 22.15s/it]"
     ]
    },
    {
     "name": "stdout",
     "output_type": "stream",
     "text": [
      "\n",
      "DIPLOMA:Ph.D.\n",
      "DIPLOMA_MAJOR:Computer Science\n",
      "EXPERIENCE:Graduating with a Ph.D.\n",
      "SKILLS:research,Quantitative approaches,Quan\n"
     ]
    },
    {
     "name": "stderr",
     "output_type": "stream",
     "text": [
      " 82%|████████▏ | 9/11 [02:06<00:58, 29.25s/it]"
     ]
    },
    {
     "name": "stdout",
     "output_type": "stream",
     "text": [
      "\n",
      "EXPERIENCE:12+ years\n",
      "SKILLS:research,human-computer interaction,human factors,cognitive psychology,shipped products\n",
      "---\n"
     ]
    },
    {
     "name": "stderr",
     "output_type": "stream",
     "text": [
      " 91%|█████████ | 10/11 [02:21<00:24, 24.80s/it]"
     ]
    },
    {
     "name": "stdout",
     "output_type": "stream",
     "text": [
      "\n",
      "DIPLOMA:PhD,MS\n",
      "DIPLOMA_MAJOR:Industrial/Organizational Psychology,Organizational Behavior,Labor Economics,Management,Policy Analysis,\n",
      "EXPERIENCE:3+ year\n"
     ]
    },
    {
     "name": "stderr",
     "output_type": "stream",
     "text": [
      "100%|██████████| 11/11 [02:24<00:00, 13.10s/it]"
     ]
    },
    {
     "name": "stdout",
     "output_type": "stream",
     "text": [
      "\n",
      "EXPERIENCE:1+ year\n",
      "SKILLS:research,machine learning,AI,computer science,statistics,applied mathematics,data science,research\n",
      "---\n"
     ]
    },
    {
     "name": "stderr",
     "output_type": "stream",
     "text": [
      "\n"
     ]
    }
   ],
   "source": [
    "text_results = []\n",
    "for text in tqdm(test_txt):\n",
    "    try:\n",
    "        extracted_text = cohereDocExtractor.extract(text)\n",
    "        print(extracted_text)\n",
    "        text_results.append(extracted_text)\n",
    "    except Exception as e:\n",
    "        print('ERROR: ', e)"
   ]
  },
  {
   "cell_type": "markdown",
   "metadata": {},
   "source": [
    "Let's look at the results:"
   ]
  },
  {
   "cell_type": "code",
   "execution_count": 20,
   "metadata": {},
   "outputs": [],
   "source": [
    "pd.set_option('display.max_colwidth', None)"
   ]
  },
  {
   "cell_type": "code",
   "execution_count": 21,
   "metadata": {},
   "outputs": [
    {
     "data": {
      "text/html": [
       "<div>\n",
       "<style scoped>\n",
       "    .dataframe tbody tr th:only-of-type {\n",
       "        vertical-align: middle;\n",
       "    }\n",
       "\n",
       "    .dataframe tbody tr th {\n",
       "        vertical-align: top;\n",
       "    }\n",
       "\n",
       "    .dataframe thead th {\n",
       "        text-align: right;\n",
       "    }\n",
       "</style>\n",
       "<table border=\"1\" class=\"dataframe\">\n",
       "  <thead>\n",
       "    <tr style=\"text-align: right;\">\n",
       "      <th></th>\n",
       "      <th>text</th>\n",
       "      <th>extracted_text</th>\n",
       "    </tr>\n",
       "  </thead>\n",
       "  <tbody>\n",
       "    <tr>\n",
       "      <th>0</th>\n",
       "      <td>Currently holding a faculty, industry, or government researcher position. Ph.D. and publications in machine learning, AI, computer science, statistics, applied mathematics, data science, or related technical fields. Experience leading a team in solving analytical problems using quantitative approaches. Experience manipulating and analyzing data from different sources. Experience in theoretical and empirical research and for answering questions with research. Ability to communicate research for public audiences of peers. Knowledge in a programming language. Ability to obtain and maintain work authorization in the country of employment in 2018.  PREFERRED  1+ year(s) of work experience in a university, industry, or government lab(s), in a role with primary emphasis on AI research. Experience driving original scholarship in collaboration with a team. First-author publications at peer-reviewed AI conferences (e.g. NIPS, CVPR, ICML, ICLR, ICCV, and ACL). Experience in developing and debugging in C/C++, Python, C# and/or Java.\\n\\nExtracted Text:</td>\n",
       "      <td>\\nEXPERIENCE:1+ year(s)\\nSKILLS:research,machine learning,AI,computer science,statistics,applied mathematics,data science,research\\n---</td>\n",
       "    </tr>\n",
       "    <tr>\n",
       "      <th>1</th>\n",
       "      <td>2+ years experience in the online advertising or research BS/BA Degree in Economics, Statistics, Political Science, History, Psychology Experience with presenting and partnering with technical and non-technical teams Experience communicating analyses and results to any audience Experience working with structured and unstructured data-sets, statistical software such as R, STATA, SPSS, SAS as well as data extraction tools such as Hive and/or SQL  PREFERRED  Experience with causal measurement, machine learning or lab-based research Experience in quantitative field, such as consulting, market research, strategy and planning, or user experience research Strong organizational and project management skills Masters in quantitative field or a MBA\\n\\nExtracted Text:</td>\n",
       "      <td>\\nDIPLOMA:Bachelor\\nDIPLOMA_MAJOR:Economics,Statistics,Political Science,History,Psychology\\nEXPERIENCE:2+ years\\nSKILLS:presenting</td>\n",
       "    </tr>\n",
       "    <tr>\n",
       "      <th>2</th>\n",
       "      <td>BA/BS 5+ years of program or project management experience 2+ years of technical project/program management experience Track record of operating independently Experience understanding user needs, gathering requirements, and defining scope Communication experience interacting with a variety of audiences from engineers, to vendors, to research leaders Track record of building cross-functional relationships  PREFERRED  Experience working with UX Research and/or UX Design\\n\\nExtracted Text:</td>\n",
       "      <td>\\nEXPERIENCE:5+ years\\nSKILLS:program or project management,technical project/program management,communication experience,experience interacting with a variety of audiences,experience gathering requirements,experience defining scope\\n---</td>\n",
       "    </tr>\n",
       "    <tr>\n",
       "      <th>3</th>\n",
       "      <td>Currently enrolled in a full-time degree program and returning to the program after the completion of the internship. Publications or experience in fields related to in machine learning, AI, computer vision, natural language processing, computational neuroscience, optimization, computer science, statistics, applied mathematics, or data science. Experience solving analytical problems using quantitative approaches. Ability to manipulate and analyze large scale, high-dimensionality data from varying sources. Experience in utilizing theoretical and empirical research to solve problems. Ability to communicate research for public audiences of peers. Knowledge in a programming language. Ability to obtain and maintain work authorization in the country of employment in 2018.  PREFERRED  Pursuing a Ph.D. degree in Computer Science or related field First-author publications at peer-reviewed AI conferences (e.g. NIPS, ICML, ICLR, CVPR, ICCV, ECCV, ACL, NAACL, and EMNLP). Experience building systems based on machine learning and/or deep learning methods. Research and software engineer experience demonstrated via an internship, work experience, or coding competitions. Knowledge in Python, Lua, C++, C, C# and/or Java.\\n\\nExtracted Text:</td>\n",
       "      <td>\\nDIPLOMA:Pursuing a Ph.D. degree\\nDIPLOMA_MAJOR:Computer Science\\nEXPERIENCE:Currently enrolled in a full-time degree program\\nSKILLS:machin</td>\n",
       "    </tr>\n",
       "    <tr>\n",
       "      <th>4</th>\n",
       "      <td>Currently enrolled in a full-time degree program and returning to the program after the completion of the internship. Publications or experience in fields related to in machine learning, AI, computer vision, natural language processing, computational neuroscience, optimization, computer science, statistics, applied mathematics, or data science. Experience solving analytical problems using quantitative approaches. Ability to manipulate and analyze large scale, high-dimensionality data from varying sources. Experience in utilizing theoretical and empirical research to solve problems. Ability to communicate research for public audiences of peers. Knowledge in a programming language. Ability to obtain and maintain work authorization in the country of employment in 2019.  PREFERRED  Pursuing a Ph.D. degree in Computer Science or related field. First-author publications at peer-reviewed AI conferences (e.g. NIPS, ICML, ICLR, CVPR, ICCV, ECCV, ACL, NAACL, and EMNLP). Experience building systems based on machine learning and/or deep learning methods. Research and software engineer experience demonstrated via an internship, work experience, or coding competitions. Knowledge in Python, Lua, C++, C, C# and/or Java. \\n\\nExtracted Text:</td>\n",
       "      <td>\\nDIPLOMA:Pursuing a Ph.D.\\nDIPLOMA_MAJOR:Computer Science\\nEXPERIENCE:0+ years\\nSKILLS:machine learning,AI,computer vision</td>\n",
       "    </tr>\n",
       "    <tr>\n",
       "      <th>5</th>\n",
       "      <td>MS in a quantitative field such as Operations Research, Computer Science, Quantitative Finance, Math, Physics or a related Engineering degree Knowledge of Statistics &amp; Probability (e.g. Hypothesis testing, Regression, Stochastic modeling, Markov Chains and etc.) 7+ years experience in building models and developing algorithms for machine learning, statistics, mathematical programming, and simulation in industry and/or academia 5+ years experience in managing and analyzing large-scale structured and unstructured data using R or Python 7+ years experience with algorithms and optimizations using CPLEX or related tools 7+ years experience in SQL and data modeling  PREFERRED  PhD in Operation Research or Industrial Engineering. Familiarity with object-oriented programming languages (such as C++ or Java) and visualization tools (such as Tableau). Experience working with or in support of diverse communities.\\n\\nExtracted Text:</td>\n",
       "      <td>\\nEXPERIENCE:7+ years\\nSKILLS:MS,Operations Research,Computer Science,Quantitative Finance,Math,Physics,Engineering\\n---</td>\n",
       "    </tr>\n",
       "    <tr>\n",
       "      <th>6</th>\n",
       "      <td>Ph.D. with 5+ years of experience, MS with 7+ years of experience, or BS with 10+ years of experience in Physics, Electrical Engineering, Computer Science, or a related technical field such us architecting, developing, and launching hardware/software projects and/or services Demonstrated knowledge dissemination through authored publications, international conference presentations or shipped products ML/AI basics, and systems basics, including the requisite programming experience (python or equivalent, and at least one systems-level programming language: C, C++, Java, Go, Rust, or equivalent) Experience with data analytics  (data collection, storage, cleaning, processing with statistics, visualization, and other data related processes) Experience working on communication systems in a research and/or development capacity Technical leadership in leading research efforts with a demonstrated experience handling multiple priorities  PREFERRED  Deep understanding of how culture and team dynamics create exceptional teams\\n\\nExtracted Text:</td>\n",
       "      <td>\\nEXPERIENCE:5+ years,7+ years,10+ years\\nSKILLS:Physics,Electrical Engineering,Computer Science,Architecting,developing,launching hardware/software projects,services\\n---</td>\n",
       "    </tr>\n",
       "    <tr>\n",
       "      <th>7</th>\n",
       "      <td>Graduating with a Ph.D. in Computer Science or related field or relevant experience. First-author publications at peer-reviewed AI conferences (e.g. NIPS, CVPR, ICML, ICLR, ICCV, and ACL). Experience leading a team in solving analytical problems using quantitative approaches. Experience manipulating and analyzing data from different sources. Experience in leading theoretical and empirical research and for answering questions with research. Experience communicating research for public audiences of peers. Knowledge in a programming language. Must be able to obtain and maintain work authorization in the country of employment in 2018.  PREFERRED  Previous internship(s) and/or research assistantship(s) in an AI research organization. Experience in developing and debugging in C/C++, Python, C# and/or Java. Has previously completed a postdoctoral role in AI research.\\n\\nExtracted Text:</td>\n",
       "      <td>\\nDIPLOMA:Ph.D.\\nDIPLOMA_MAJOR:Computer Science\\nEXPERIENCE:Graduating with a Ph.D.\\nSKILLS:research,Quantitative approaches,Quan</td>\n",
       "    </tr>\n",
       "    <tr>\n",
       "      <th>8</th>\n",
       "      <td>12+ years of research experience, in-house or as a vendor (including applicable consulting experience) Ph.D in human-computer interaction, human factors, cognitive psychology or related field User safety demonstrated knowledge through authored publications, international conference presentations or shipped products Experience collaborating and working across teams to develop concepts that advance the entire product pipeline (hardware, software, computer vision, etc.)\\n\\nExtracted Text:</td>\n",
       "      <td>\\nEXPERIENCE:12+ years\\nSKILLS:research,human-computer interaction,human factors,cognitive psychology,shipped products\\n---</td>\n",
       "    </tr>\n",
       "    <tr>\n",
       "      <th>9</th>\n",
       "      <td>PhD with 3+ years, or MS with 5+ years of experience in a field emphasizing people research in organizations (e.g., Industrial/Organizational Psychology, Organizational Behavior, Labor Economics, Management, Policy Analysis, etc.) 3+ years of experience conducting quantitative people research in an organization or consulting environment, including working with stakeholders to understand and clarify their people research needs, and communicating analyses to technical and non-technical audiences Experience managing and analyzing structured and unstructured data Experience communicating technical results to technical and non-technical audiences Experience operating in a consultative capacity with stakeholders Experience defining a roadmap of data requirements, metrics reporting, and research to drive insights Experience in communicating and weaving together multiple data sources and deliver insights to stakeholders Knowledge of statistical analysis (e.g., descriptive statistics and knowledge with statistical significance), quantitative research, and experience gathering and interpreting data  PREFERRED  3+ years of experience applying multivariate statistical methods to people research problems in organizations 5+ years of progressive consulting or corporate work experience focused on using data to uncover insights that drive action and communicating analyses to technical and non-technical audiences Relevant experience includes analytics, management consulting, sales operations, finance, compensation, or related fields People management experience Experience developing tools, conducting empirical research, practical implementation, knowledge of best practices in at least two of the following areas: employee engagement, performance management, diversity, compensation (e.g., pay equity), or retention Experience conceiving, developing, running pilot tests, implementing, and continuously improving large-scale people processes Experience managing and analyzing structured and unstructured data with R and SQL\\n\\nExtracted Text:</td>\n",
       "      <td>\\nDIPLOMA:PhD,MS\\nDIPLOMA_MAJOR:Industrial/Organizational Psychology,Organizational Behavior,Labor Economics,Management,Policy Analysis,\\nEXPERIENCE:3+ year</td>\n",
       "    </tr>\n",
       "    <tr>\n",
       "      <th>10</th>\n",
       "      <td>Currently holding a faculty, industry, or government researcher position. Ph.D. and publications in machine learning, AI, computer science, statistics, applied mathematics, data science, or related technical fields. Experience leading a team in solving analytical problems using quantitative approaches. Experience solving analytical problems using quantitative approaches. Experience manipulating and analyzing data from different sources. Experience in theoretical and empirical research and for answering questions with research. Ability to communicate research. Knowledge in some programming language. Traduction franaise -  minimales: Occuper actuellement un poste de chercheur dans une facult, une industrie ou un gouvernement. Doctorat et des publications sur l'apprentissage automatique, l'intelligence artificielle, l'informatique, les statistiques, les mathmatiques appliques, la science des donnes ou des domaines techniques connexes. Exprience de la direction dune quipe dans la rsolution de problmes analytiques  laide dapproches quantitatives. Exprience en manipulation et analyse de donnes provenant de diffrentes sources. Rpondre  des questions avec la recherche capacit  communiquer la recherche. Connaissances dans certains langages de programmation.  PREFERRED  1+ year(s) of work experience in within a university, industry, or government lab(s), in a role with primary emphasis on AI research. Experience driving original scholarship in collaboration with a team. First-author publications at peer-reviewed AI conferences (e.g. NIPS, CVPR, ICML, ICLR, ICCV, and ACL). Experience in developing and debugging in C/C++, Python, C# and/or Java. Traduction franaise -  prfres: 1 an ou plus d'exprience de travail dans une universit, une industrie ou un laboratoire gouvernemental, dans un rle principalement ax sur la recherche sur l'IA. Exprience de la conduite de la bourse originale en collaboration avec une quipe. Publications du premier auteur lors de confrences sur lIA examines par des pairs (par exemple NIPS, CVPR, ICML, ICLR, ICCV et ACL). Exprience dans le dveloppement et le dbogage en C / C ++, Python, C # et / ou Java.\\n\\nExtracted Text:</td>\n",
       "      <td>\\nEXPERIENCE:1+ year\\nSKILLS:research,machine learning,AI,computer science,statistics,applied mathematics,data science,research\\n---</td>\n",
       "    </tr>\n",
       "  </tbody>\n",
       "</table>\n",
       "</div>"
      ],
      "text/plain": [
       "                                                                                                                                                                                                                                                                                                                                                                                                                                                                                                                                                                                                                                                                                                                                                                                                                                                                                                                                                                                                                                                                                                                                                                                                                                                                                                                                                                                                                                                                                                                                                                                                                                                                                                                                                                                                                                                                                                                                                                                                                                                                                                                                                                                                                                                          text  \\\n",
       "0                                                                                                                                                                                                                                                                                                                                                                                                                                                                                                                                                                                                                                                                                                                                                                                                                                                                                                                                                                                                                                                                                                                                                              Currently holding a faculty, industry, or government researcher position. Ph.D. and publications in machine learning, AI, computer science, statistics, applied mathematics, data science, or related technical fields. Experience leading a team in solving analytical problems using quantitative approaches. Experience manipulating and analyzing data from different sources. Experience in theoretical and empirical research and for answering questions with research. Ability to communicate research for public audiences of peers. Knowledge in a programming language. Ability to obtain and maintain work authorization in the country of employment in 2018.  PREFERRED  1+ year(s) of work experience in a university, industry, or government lab(s), in a role with primary emphasis on AI research. Experience driving original scholarship in collaboration with a team. First-author publications at peer-reviewed AI conferences (e.g. NIPS, CVPR, ICML, ICLR, ICCV, and ACL). Experience in developing and debugging in C/C++, Python, C# and/or Java.\\n\\nExtracted Text:   \n",
       "1                                                                                                                                                                                                                                                                                                                                                                                                                                                                                                                                                                                                                                                                                                                                                                                                                                                                                                                                                                                                                                                                                                                                                                                                                                                                                                                                                                                                                                                               2+ years experience in the online advertising or research BS/BA Degree in Economics, Statistics, Political Science, History, Psychology Experience with presenting and partnering with technical and non-technical teams Experience communicating analyses and results to any audience Experience working with structured and unstructured data-sets, statistical software such as R, STATA, SPSS, SAS as well as data extraction tools such as Hive and/or SQL  PREFERRED  Experience with causal measurement, machine learning or lab-based research Experience in quantitative field, such as consulting, market research, strategy and planning, or user experience research Strong organizational and project management skills Masters in quantitative field or a MBA\\n\\nExtracted Text:   \n",
       "2                                                                                                                                                                                                                                                                                                                                                                                                                                                                                                                                                                                                                                                                                                                                                                                                                                                                                                                                                                                                                                                                                                                                                                                                                                                                                                                                                                                                                                                                                                                                                                                                                                                                                                                                                  BA/BS 5+ years of program or project management experience 2+ years of technical project/program management experience Track record of operating independently Experience understanding user needs, gathering requirements, and defining scope Communication experience interacting with a variety of audiences from engineers, to vendors, to research leaders Track record of building cross-functional relationships  PREFERRED  Experience working with UX Research and/or UX Design\\n\\nExtracted Text:   \n",
       "3                                                                                                                                                                                                                                                                                                                                                                                                                                                                                                                                                                                                                                                                                                                                                                                                                                                                                                                                                                    Currently enrolled in a full-time degree program and returning to the program after the completion of the internship. Publications or experience in fields related to in machine learning, AI, computer vision, natural language processing, computational neuroscience, optimization, computer science, statistics, applied mathematics, or data science. Experience solving analytical problems using quantitative approaches. Ability to manipulate and analyze large scale, high-dimensionality data from varying sources. Experience in utilizing theoretical and empirical research to solve problems. Ability to communicate research for public audiences of peers. Knowledge in a programming language. Ability to obtain and maintain work authorization in the country of employment in 2018.  PREFERRED  Pursuing a Ph.D. degree in Computer Science or related field First-author publications at peer-reviewed AI conferences (e.g. NIPS, ICML, ICLR, CVPR, ICCV, ECCV, ACL, NAACL, and EMNLP). Experience building systems based on machine learning and/or deep learning methods. Research and software engineer experience demonstrated via an internship, work experience, or coding competitions. Knowledge in Python, Lua, C++, C, C# and/or Java.\\n\\nExtracted Text:   \n",
       "4                                                                                                                                                                                                                                                                                                                                                                                                                                                                                                                                                                                                                                                                                                                                                                                                                                                                                                                                                                  Currently enrolled in a full-time degree program and returning to the program after the completion of the internship. Publications or experience in fields related to in machine learning, AI, computer vision, natural language processing, computational neuroscience, optimization, computer science, statistics, applied mathematics, or data science. Experience solving analytical problems using quantitative approaches. Ability to manipulate and analyze large scale, high-dimensionality data from varying sources. Experience in utilizing theoretical and empirical research to solve problems. Ability to communicate research for public audiences of peers. Knowledge in a programming language. Ability to obtain and maintain work authorization in the country of employment in 2019.  PREFERRED  Pursuing a Ph.D. degree in Computer Science or related field. First-author publications at peer-reviewed AI conferences (e.g. NIPS, ICML, ICLR, CVPR, ICCV, ECCV, ACL, NAACL, and EMNLP). Experience building systems based on machine learning and/or deep learning methods. Research and software engineer experience demonstrated via an internship, work experience, or coding competitions. Knowledge in Python, Lua, C++, C, C# and/or Java. \\n\\nExtracted Text:   \n",
       "5                                                                                                                                                                                                                                                                                                                                                                                                                                                                                                                                                                                                                                                                                                                                                                                                                                                                                                                                                                                                                                                                                                                                                                                                                                                                                        MS in a quantitative field such as Operations Research, Computer Science, Quantitative Finance, Math, Physics or a related Engineering degree Knowledge of Statistics & Probability (e.g. Hypothesis testing, Regression, Stochastic modeling, Markov Chains and etc.) 7+ years experience in building models and developing algorithms for machine learning, statistics, mathematical programming, and simulation in industry and/or academia 5+ years experience in managing and analyzing large-scale structured and unstructured data using R or Python 7+ years experience with algorithms and optimizations using CPLEX or related tools 7+ years experience in SQL and data modeling  PREFERRED  PhD in Operation Research or Industrial Engineering. Familiarity with object-oriented programming languages (such as C++ or Java) and visualization tools (such as Tableau). Experience working with or in support of diverse communities.\\n\\nExtracted Text:   \n",
       "6                                                                                                                                                                                                                                                                                                                                                                                                                                                                                                                                                                                                                                                                                                                                                                                                                                                                                                                                                                                                                                                                                                                                                                      Ph.D. with 5+ years of experience, MS with 7+ years of experience, or BS with 10+ years of experience in Physics, Electrical Engineering, Computer Science, or a related technical field such us architecting, developing, and launching hardware/software projects and/or services Demonstrated knowledge dissemination through authored publications, international conference presentations or shipped products ML/AI basics, and systems basics, including the requisite programming experience (python or equivalent, and at least one systems-level programming language: C, C++, Java, Go, Rust, or equivalent) Experience with data analytics  (data collection, storage, cleaning, processing with statistics, visualization, and other data related processes) Experience working on communication systems in a research and/or development capacity Technical leadership in leading research efforts with a demonstrated experience handling multiple priorities  PREFERRED  Deep understanding of how culture and team dynamics create exceptional teams\\n\\nExtracted Text:   \n",
       "7                                                                                                                                                                                                                                                                                                                                                                                                                                                                                                                                                                                                                                                                                                                                                                                                                                                                                                                                                                                                                                                                                                                                                                                                                                                                                                                                  Graduating with a Ph.D. in Computer Science or related field or relevant experience. First-author publications at peer-reviewed AI conferences (e.g. NIPS, CVPR, ICML, ICLR, ICCV, and ACL). Experience leading a team in solving analytical problems using quantitative approaches. Experience manipulating and analyzing data from different sources. Experience in leading theoretical and empirical research and for answering questions with research. Experience communicating research for public audiences of peers. Knowledge in a programming language. Must be able to obtain and maintain work authorization in the country of employment in 2018.  PREFERRED  Previous internship(s) and/or research assistantship(s) in an AI research organization. Experience in developing and debugging in C/C++, Python, C# and/or Java. Has previously completed a postdoctoral role in AI research.\\n\\nExtracted Text:   \n",
       "8                                                                                                                                                                                                                                                                                                                                                                                                                                                                                                                                                                                                                                                                                                                                                                                                                                                                                                                                                                                                                                                                                                                                                                                                                                                                                                                                                                                                                                                                                                                                                                                                                                                                                                                                                   12+ years of research experience, in-house or as a vendor (including applicable consulting experience) Ph.D in human-computer interaction, human factors, cognitive psychology or related field User safety demonstrated knowledge through authored publications, international conference presentations or shipped products Experience collaborating and working across teams to develop concepts that advance the entire product pipeline (hardware, software, computer vision, etc.)\\n\\nExtracted Text:   \n",
       "9                                                                                                                        PhD with 3+ years, or MS with 5+ years of experience in a field emphasizing people research in organizations (e.g., Industrial/Organizational Psychology, Organizational Behavior, Labor Economics, Management, Policy Analysis, etc.) 3+ years of experience conducting quantitative people research in an organization or consulting environment, including working with stakeholders to understand and clarify their people research needs, and communicating analyses to technical and non-technical audiences Experience managing and analyzing structured and unstructured data Experience communicating technical results to technical and non-technical audiences Experience operating in a consultative capacity with stakeholders Experience defining a roadmap of data requirements, metrics reporting, and research to drive insights Experience in communicating and weaving together multiple data sources and deliver insights to stakeholders Knowledge of statistical analysis (e.g., descriptive statistics and knowledge with statistical significance), quantitative research, and experience gathering and interpreting data  PREFERRED  3+ years of experience applying multivariate statistical methods to people research problems in organizations 5+ years of progressive consulting or corporate work experience focused on using data to uncover insights that drive action and communicating analyses to technical and non-technical audiences Relevant experience includes analytics, management consulting, sales operations, finance, compensation, or related fields People management experience Experience developing tools, conducting empirical research, practical implementation, knowledge of best practices in at least two of the following areas: employee engagement, performance management, diversity, compensation (e.g., pay equity), or retention Experience conceiving, developing, running pilot tests, implementing, and continuously improving large-scale people processes Experience managing and analyzing structured and unstructured data with R and SQL\\n\\nExtracted Text:   \n",
       "10   Currently holding a faculty, industry, or government researcher position. Ph.D. and publications in machine learning, AI, computer science, statistics, applied mathematics, data science, or related technical fields. Experience leading a team in solving analytical problems using quantitative approaches. Experience solving analytical problems using quantitative approaches. Experience manipulating and analyzing data from different sources. Experience in theoretical and empirical research and for answering questions with research. Ability to communicate research. Knowledge in some programming language. Traduction franaise -  minimales: Occuper actuellement un poste de chercheur dans une facult, une industrie ou un gouvernement. Doctorat et des publications sur l'apprentissage automatique, l'intelligence artificielle, l'informatique, les statistiques, les mathmatiques appliques, la science des donnes ou des domaines techniques connexes. Exprience de la direction dune quipe dans la rsolution de problmes analytiques  laide dapproches quantitatives. Exprience en manipulation et analyse de donnes provenant de diffrentes sources. Rpondre  des questions avec la recherche capacit  communiquer la recherche. Connaissances dans certains langages de programmation.  PREFERRED  1+ year(s) of work experience in within a university, industry, or government lab(s), in a role with primary emphasis on AI research. Experience driving original scholarship in collaboration with a team. First-author publications at peer-reviewed AI conferences (e.g. NIPS, CVPR, ICML, ICLR, ICCV, and ACL). Experience in developing and debugging in C/C++, Python, C# and/or Java. Traduction franaise -  prfres: 1 an ou plus d'exprience de travail dans une universit, une industrie ou un laboratoire gouvernemental, dans un rle principalement ax sur la recherche sur l'IA. Exprience de la conduite de la bourse originale en collaboration avec une quipe. Publications du premier auteur lors de confrences sur lIA examines par des pairs (par exemple NIPS, CVPR, ICML, ICLR, ICCV et ACL). Exprience dans le dveloppement et le dbogage en C / C ++, Python, C # et / ou Java.\\n\\nExtracted Text:   \n",
       "\n",
       "                                                                                                                                                                                                                                   extracted_text  \n",
       "0                                                                                                         \\nEXPERIENCE:1+ year(s)\\nSKILLS:research,machine learning,AI,computer science,statistics,applied mathematics,data science,research\\n---  \n",
       "1                                                                                                             \\nDIPLOMA:Bachelor\\nDIPLOMA_MAJOR:Economics,Statistics,Political Science,History,Psychology\\nEXPERIENCE:2+ years\\nSKILLS:presenting  \n",
       "2   \\nEXPERIENCE:5+ years\\nSKILLS:program or project management,technical project/program management,communication experience,experience interacting with a variety of audiences,experience gathering requirements,experience defining scope\\n---  \n",
       "3                                                                                                   \\nDIPLOMA:Pursuing a Ph.D. degree\\nDIPLOMA_MAJOR:Computer Science\\nEXPERIENCE:Currently enrolled in a full-time degree program\\nSKILLS:machin  \n",
       "4                                                                                                                     \\nDIPLOMA:Pursuing a Ph.D.\\nDIPLOMA_MAJOR:Computer Science\\nEXPERIENCE:0+ years\\nSKILLS:machine learning,AI,computer vision  \n",
       "5                                                                                                                        \\nEXPERIENCE:7+ years\\nSKILLS:MS,Operations Research,Computer Science,Quantitative Finance,Math,Physics,Engineering\\n---  \n",
       "6                                                                     \\nEXPERIENCE:5+ years,7+ years,10+ years\\nSKILLS:Physics,Electrical Engineering,Computer Science,Architecting,developing,launching hardware/software projects,services\\n---  \n",
       "7                                                                                                               \\nDIPLOMA:Ph.D.\\nDIPLOMA_MAJOR:Computer Science\\nEXPERIENCE:Graduating with a Ph.D.\\nSKILLS:research,Quantitative approaches,Quan  \n",
       "8                                                                                                                     \\nEXPERIENCE:12+ years\\nSKILLS:research,human-computer interaction,human factors,cognitive psychology,shipped products\\n---  \n",
       "9                                                                                    \\nDIPLOMA:PhD,MS\\nDIPLOMA_MAJOR:Industrial/Organizational Psychology,Organizational Behavior,Labor Economics,Management,Policy Analysis,\\nEXPERIENCE:3+ year  \n",
       "10                                                                                                           \\nEXPERIENCE:1+ year\\nSKILLS:research,machine learning,AI,computer science,statistics,applied mathematics,data science,research\\n---  "
      ]
     },
     "execution_count": 21,
     "metadata": {},
     "output_type": "execute_result"
    }
   ],
   "source": [
    "pd.DataFrame(data={'text': test_txt, 'extracted_text': text_results})"
   ]
  },
  {
   "cell_type": "markdown",
   "metadata": {},
   "source": [
    "Looking at these results, the model got allmost above 9/10 correctly. However, It didnt give us the elaborated  experience requirement for many case like the number 6. `5+ years,7+ years,10+ years` is not detailed for the reader. it can be confusing.\n"
   ]
  },
  {
   "cell_type": "markdown",
   "metadata": {},
   "source": [
    "#### `How well does this work?`"
   ]
  },
  {
   "cell_type": "markdown",
   "metadata": {},
   "source": [
    "We can better measure the performance of this extraction method using a larger labeled dataset. So let's load a test set of 100 examples:"
   ]
  },
  {
   "cell_type": "markdown",
   "metadata": {},
   "source": [
    "Let's run the extractor on these documents (calling the API in parallel for quicker results):"
   ]
  },
  {
   "cell_type": "code",
   "execution_count": 22,
   "metadata": {},
   "outputs": [],
   "source": [
    "from concurrent.futures import ThreadPoolExecutor\n",
    "\n",
    "extracted = []\n",
    "# Run the model to extract the entities\n",
    "with ThreadPoolExecutor(max_workers=8) as executor:\n",
    "    for i in executor.map(cohereDocExtractor.extract, test_df['document'].apply(\n",
    "            lambda x: \"Job: \"+x.replace(\"\\n\", \" \")+'\\n\\nExtracted Text:').to_list()):\n",
    "        extracted.append(str(i).strip())\n"
   ]
  },
  {
   "cell_type": "code",
   "execution_count": 23,
   "metadata": {},
   "outputs": [],
   "source": [
    "# Save results\n",
    "test_df['extracted_text'] = extracted"
   ]
  },
  {
   "cell_type": "markdown",
   "metadata": {},
   "source": [
    "Let's look at some results:"
   ]
  },
  {
   "cell_type": "code",
   "execution_count": 42,
   "metadata": {},
   "outputs": [],
   "source": [
    "test_df['extracted_text'] = test_df['extracted_text'].apply(pre_proc.clean_extracted_token)\n",
    "test_df['label'] = test_df['label'].apply(pre_proc.clean_test_token)"
   ]
  },
  {
   "cell_type": "code",
   "execution_count": 44,
   "metadata": {},
   "outputs": [],
   "source": [
    "score = []\n",
    "for i in range(test_df.shape[0]):\n",
    "    \n",
    "    score.append(SequenceMatcher(None,test_df['label'].iloc[i],\n",
    "                          test_df['extracted_text'].iloc[i]).ratio())"
   ]
  },
  {
   "cell_type": "code",
   "execution_count": 45,
   "metadata": {},
   "outputs": [
    {
     "name": "stdout",
     "output_type": "stream",
     "text": [
      "Classification accuracy 45.807344101602304%\n"
     ]
    }
   ],
   "source": [
    "# Compare the label to the extracted text\n",
    "test_df['similarity_score'] = pd.DataFrame(score)\n",
    "\n",
    "# Print the accuracy\n",
    "print(f'Classification accuracy {test_df[\"similarity_score\"].mean() *100}%')"
   ]
  },
  {
   "cell_type": "markdown",
   "metadata": {},
   "source": [
    "So it seems this prompt dont works well on this small classification model.  The prompt can be improved by trying on more data, discovering edge cases, and adding more examples to the prompt."
   ]
  },
  {
   "cell_type": "code",
   "execution_count": 48,
   "metadata": {},
   "outputs": [
    {
     "data": {
      "text/html": [
       "<div>\n",
       "<style scoped>\n",
       "    .dataframe tbody tr th:only-of-type {\n",
       "        vertical-align: middle;\n",
       "    }\n",
       "\n",
       "    .dataframe tbody tr th {\n",
       "        vertical-align: top;\n",
       "    }\n",
       "\n",
       "    .dataframe thead th {\n",
       "        text-align: right;\n",
       "    }\n",
       "</style>\n",
       "<table border=\"1\" class=\"dataframe\">\n",
       "  <thead>\n",
       "    <tr style=\"text-align: right;\">\n",
       "      <th></th>\n",
       "      <th>document</th>\n",
       "      <th>tokens</th>\n",
       "      <th>relations</th>\n",
       "      <th>label</th>\n",
       "      <th>extracted_text</th>\n",
       "      <th>similarity_score</th>\n",
       "      <th>correct</th>\n",
       "    </tr>\n",
       "  </thead>\n",
       "  <tbody>\n",
       "    <tr>\n",
       "      <th>0</th>\n",
       "      <td>\\nCurrently holding a faculty, industry, or government researcher position.\\nPh.D. and publications in machine learning, AI, computer science, statistics, applied mathematics, data science, or related technical fields.\\nExperience leading a team in solving analytical problems using quantitative approaches.\\nExperience manipulating and analyzing data from different sources.\\nExperience in theoretical and empirical research and for answering questions with research.\\nAbility to communicate research for public audiences of peers.\\nKnowledge in a programming language.\\nAbility to obtain and maintain work authorization in the country of employment in 2018.\\n\\nPREFERRED \\n1+ year(s) of work experience in a university, industry, or government lab(s), in a role with primary emphasis on AI research.\\nExperience driving original scholarship in collaboration with a team.\\nFirst-author publications at peer-reviewed AI conferences (e.g. NIPS, CVPR, ICML, ICLR, ICCV, and ACL).\\nExperience in developing and debugging in C/C++, Python, C# and/or Java.</td>\n",
       "      <td>[{'text': 'Ph.D.', 'start': 75, 'end': 80, 'token_start': 14, 'token_end': 14, 'entityLabel': 'DIPLOMA'}, {'text': 'machine learning', 'start': 101, 'end': 117, 'token_start': 18, 'token_end': 19, 'entityLabel': 'DIPLOMA_MAJOR'}, {'text': 'AI', 'start': 119, 'end': 121, 'token_start': 21, 'token_end': 21, 'entityLabel': 'DIPLOMA_MAJOR'}, {'text': 'computer science', 'start': 123, 'end': 139, 'token_start': 23, 'token_end': 24, 'entityLabel': 'DIPLOMA_MAJOR'}, {'text': 'statistics', 'start': 141, 'end': 151, 'token_start': 26, 'token_end': 26, 'entityLabel': 'DIPLOMA_MAJOR'}, {'text': 'applied mathematics', 'start': 153, 'end': 172, 'token_start': 28, 'token_end': 29, 'entityLabel': 'DIPLOMA_MAJOR'}, {'text': 'data science', 'start': 174, 'end': 186, 'token_start': 31, 'token_end': 32, 'entityLabel': 'DIPLOMA_MAJOR'}, {'text': '1+ year(s', 'start': 664, 'end': 673, 'token_start': 113, 'token_end': 115, 'entityLabel': 'EXPERIENCE'}, {'text': 'university', 'start': 699, 'end': 709, 'token_start': 122, 'token_end': 122, 'entityLabel': 'SKILLS'}, {'text': 'industry', 'start': 711, 'end': 719, 'token_start': 124, 'token_end': 124, 'entityLabel': 'SKILLS'}, {'text': 'government lab(s)', 'start': 724, 'end': 741, 'token_start': 127, 'token_end': 129, 'entityLabel': 'SKILLS'}, {'text': 'AI', 'start': 778, 'end': 780, 'token_start': 138, 'token_end': 138, 'entityLabel': 'SKILLS'}]</td>\n",
       "      <td>[{'child': 18, 'head': 14, 'relationLabel': 'DEGREE_IN'}, {'child': 21, 'head': 14, 'relationLabel': 'DEGREE_IN'}, {'child': 23, 'head': 14, 'relationLabel': 'DEGREE_IN'}, {'child': 26, 'head': 14, 'relationLabel': 'DEGREE_IN'}, {'child': 28, 'head': 14, 'relationLabel': 'DEGREE_IN'}, {'child': 31, 'head': 14, 'relationLabel': 'DEGREE_IN'}, {'child': 122, 'head': 113, 'relationLabel': 'EXPERIENCE_IN'}, {'child': 124, 'head': 113, 'relationLabel': 'EXPERIENCE_IN'}, {'child': 127, 'head': 113, 'relationLabel': 'EXPERIENCE_IN'}, {'child': 138, 'head': 113, 'relationLabel': 'EXPERIENCE_IN'}]</td>\n",
       "      <td>diploma:ph.d.;diploma_major:machine learning,ai,computer science,statistics,applied mathematics,data science;experience:1+ year(s;skills:university,industry,government lab(s),ai;</td>\n",
       "      <td>diploma:ph.d;diploma_major:computer science;experience:1+ year(s),0+ year(s);skills:research,machine learnin</td>\n",
       "      <td>0.524476</td>\n",
       "      <td>0</td>\n",
       "    </tr>\n",
       "    <tr>\n",
       "      <th>1</th>\n",
       "      <td>\\n2+ years experience in the online advertising or research\\nBS/BA Degree in Economics, Statistics, Political Science, History, Psychology\\nExperience with presenting and partnering with technical and non-technical teams\\nExperience communicating analyses and results to any audience\\nExperience working with structured and unstructured data-sets, statistical software such as R, STATA, SPSS, SAS as well as data extraction tools such as Hive and/or SQL\\n\\nPREFERRED \\nExperience with causal measurement, machine learning or lab-based research\\nExperience in quantitative field, such as consulting, market research, strategy and planning, or user experience research\\nStrong organizational and project management skills\\nMasters in quantitative field or a MBA</td>\n",
       "      <td>[{'text': '2+ years', 'start': 1, 'end': 9, 'token_start': 1, 'token_end': 3, 'entityLabel': 'EXPERIENCE'}, {'text': 'online advertising', 'start': 28, 'end': 46, 'token_start': 7, 'token_end': 8, 'entityLabel': 'SKILLS'}, {'text': 'research', 'start': 50, 'end': 58, 'token_start': 10, 'token_end': 10, 'entityLabel': 'SKILLS'}, {'text': 'BS/BA', 'start': 59, 'end': 64, 'token_start': 12, 'token_end': 14, 'entityLabel': 'DIPLOMA'}, {'text': 'Economics', 'start': 75, 'end': 84, 'token_start': 17, 'token_end': 17, 'entityLabel': 'DIPLOMA_MAJOR'}, {'text': 'Statistics', 'start': 86, 'end': 96, 'token_start': 19, 'token_end': 19, 'entityLabel': 'DIPLOMA_MAJOR'}, {'text': 'Political Science', 'start': 98, 'end': 115, 'token_start': 21, 'token_end': 22, 'entityLabel': 'DIPLOMA_MAJOR'}, {'text': 'History', 'start': 117, 'end': 124, 'token_start': 24, 'token_end': 24, 'entityLabel': 'DIPLOMA_MAJOR'}, {'text': 'Psychology', 'start': 126, 'end': 136, 'token_start': 26, 'token_end': 26, 'entityLabel': 'DIPLOMA_MAJOR'}, {'text': 'Masters', 'start': 710, 'end': 717, 'token_start': 126, 'token_end': 126, 'entityLabel': 'DIPLOMA'}, {'text': 'quantitative field', 'start': 721, 'end': 739, 'token_start': 128, 'token_end': 129, 'entityLabel': 'DIPLOMA_MAJOR'}]</td>\n",
       "      <td>[{'child': 7, 'head': 1, 'relationLabel': 'EXPERIENCE_IN'}, {'child': 10, 'head': 1, 'relationLabel': 'EXPERIENCE_IN'}, {'child': 17, 'head': 12, 'relationLabel': 'DEGREE_IN'}, {'child': 19, 'head': 12, 'relationLabel': 'DEGREE_IN'}, {'child': 21, 'head': 12, 'relationLabel': 'DEGREE_IN'}, {'child': 24, 'head': 12, 'relationLabel': 'DEGREE_IN'}, {'child': 26, 'head': 12, 'relationLabel': 'DEGREE_IN'}, {'child': 128, 'head': 126, 'relationLabel': 'DEGREE_IN'}]</td>\n",
       "      <td>experience:2+ years;skills:online advertising,research;diploma:bs/ba,masters;diploma_major:economics,statistics,political science,history,psychology,quantitative field;</td>\n",
       "      <td>experience:2+ years;skills:advertising,research;</td>\n",
       "      <td>0.444444</td>\n",
       "      <td>0</td>\n",
       "    </tr>\n",
       "  </tbody>\n",
       "</table>\n",
       "</div>"
      ],
      "text/plain": [
       "                                                                                                                                                                                                                                                                                                                                                                                                                                                                                                                                                                                                                                                                                                                                                                                                                                                                                                                                                                                                                                                                                      document  \\\n",
       "0  \\nCurrently holding a faculty, industry, or government researcher position.\\nPh.D. and publications in machine learning, AI, computer science, statistics, applied mathematics, data science, or related technical fields.\\nExperience leading a team in solving analytical problems using quantitative approaches.\\nExperience manipulating and analyzing data from different sources.\\nExperience in theoretical and empirical research and for answering questions with research.\\nAbility to communicate research for public audiences of peers.\\nKnowledge in a programming language.\\nAbility to obtain and maintain work authorization in the country of employment in 2018.\\n\\nPREFERRED \\n1+ year(s) of work experience in a university, industry, or government lab(s), in a role with primary emphasis on AI research.\\nExperience driving original scholarship in collaboration with a team.\\nFirst-author publications at peer-reviewed AI conferences (e.g. NIPS, CVPR, ICML, ICLR, ICCV, and ACL).\\nExperience in developing and debugging in C/C++, Python, C# and/or Java.   \n",
       "1                                                                                                                                                                                                                                                                                                      \\n2+ years experience in the online advertising or research\\nBS/BA Degree in Economics, Statistics, Political Science, History, Psychology\\nExperience with presenting and partnering with technical and non-technical teams\\nExperience communicating analyses and results to any audience\\nExperience working with structured and unstructured data-sets, statistical software such as R, STATA, SPSS, SAS as well as data extraction tools such as Hive and/or SQL\\n\\nPREFERRED \\nExperience with causal measurement, machine learning or lab-based research\\nExperience in quantitative field, such as consulting, market research, strategy and planning, or user experience research\\nStrong organizational and project management skills\\nMasters in quantitative field or a MBA   \n",
       "\n",
       "                                                                                                                                                                                                                                                                                                                                                                                                                                                                                                                                                                                                                                                                                                                                                                                                                                                                                                                                                                                                                                                                                                                                                                                                                                                                                                                                                                                                                                              tokens  \\\n",
       "0  [{'text': 'Ph.D.', 'start': 75, 'end': 80, 'token_start': 14, 'token_end': 14, 'entityLabel': 'DIPLOMA'}, {'text': 'machine learning', 'start': 101, 'end': 117, 'token_start': 18, 'token_end': 19, 'entityLabel': 'DIPLOMA_MAJOR'}, {'text': 'AI', 'start': 119, 'end': 121, 'token_start': 21, 'token_end': 21, 'entityLabel': 'DIPLOMA_MAJOR'}, {'text': 'computer science', 'start': 123, 'end': 139, 'token_start': 23, 'token_end': 24, 'entityLabel': 'DIPLOMA_MAJOR'}, {'text': 'statistics', 'start': 141, 'end': 151, 'token_start': 26, 'token_end': 26, 'entityLabel': 'DIPLOMA_MAJOR'}, {'text': 'applied mathematics', 'start': 153, 'end': 172, 'token_start': 28, 'token_end': 29, 'entityLabel': 'DIPLOMA_MAJOR'}, {'text': 'data science', 'start': 174, 'end': 186, 'token_start': 31, 'token_end': 32, 'entityLabel': 'DIPLOMA_MAJOR'}, {'text': '1+ year(s', 'start': 664, 'end': 673, 'token_start': 113, 'token_end': 115, 'entityLabel': 'EXPERIENCE'}, {'text': 'university', 'start': 699, 'end': 709, 'token_start': 122, 'token_end': 122, 'entityLabel': 'SKILLS'}, {'text': 'industry', 'start': 711, 'end': 719, 'token_start': 124, 'token_end': 124, 'entityLabel': 'SKILLS'}, {'text': 'government lab(s)', 'start': 724, 'end': 741, 'token_start': 127, 'token_end': 129, 'entityLabel': 'SKILLS'}, {'text': 'AI', 'start': 778, 'end': 780, 'token_start': 138, 'token_end': 138, 'entityLabel': 'SKILLS'}]   \n",
       "1                                                                                                                                      [{'text': '2+ years', 'start': 1, 'end': 9, 'token_start': 1, 'token_end': 3, 'entityLabel': 'EXPERIENCE'}, {'text': 'online advertising', 'start': 28, 'end': 46, 'token_start': 7, 'token_end': 8, 'entityLabel': 'SKILLS'}, {'text': 'research', 'start': 50, 'end': 58, 'token_start': 10, 'token_end': 10, 'entityLabel': 'SKILLS'}, {'text': 'BS/BA', 'start': 59, 'end': 64, 'token_start': 12, 'token_end': 14, 'entityLabel': 'DIPLOMA'}, {'text': 'Economics', 'start': 75, 'end': 84, 'token_start': 17, 'token_end': 17, 'entityLabel': 'DIPLOMA_MAJOR'}, {'text': 'Statistics', 'start': 86, 'end': 96, 'token_start': 19, 'token_end': 19, 'entityLabel': 'DIPLOMA_MAJOR'}, {'text': 'Political Science', 'start': 98, 'end': 115, 'token_start': 21, 'token_end': 22, 'entityLabel': 'DIPLOMA_MAJOR'}, {'text': 'History', 'start': 117, 'end': 124, 'token_start': 24, 'token_end': 24, 'entityLabel': 'DIPLOMA_MAJOR'}, {'text': 'Psychology', 'start': 126, 'end': 136, 'token_start': 26, 'token_end': 26, 'entityLabel': 'DIPLOMA_MAJOR'}, {'text': 'Masters', 'start': 710, 'end': 717, 'token_start': 126, 'token_end': 126, 'entityLabel': 'DIPLOMA'}, {'text': 'quantitative field', 'start': 721, 'end': 739, 'token_start': 128, 'token_end': 129, 'entityLabel': 'DIPLOMA_MAJOR'}]   \n",
       "\n",
       "                                                                                                                                                                                                                                                                                                                                                                                                                                                                                                                                                                                                            relations  \\\n",
       "0  [{'child': 18, 'head': 14, 'relationLabel': 'DEGREE_IN'}, {'child': 21, 'head': 14, 'relationLabel': 'DEGREE_IN'}, {'child': 23, 'head': 14, 'relationLabel': 'DEGREE_IN'}, {'child': 26, 'head': 14, 'relationLabel': 'DEGREE_IN'}, {'child': 28, 'head': 14, 'relationLabel': 'DEGREE_IN'}, {'child': 31, 'head': 14, 'relationLabel': 'DEGREE_IN'}, {'child': 122, 'head': 113, 'relationLabel': 'EXPERIENCE_IN'}, {'child': 124, 'head': 113, 'relationLabel': 'EXPERIENCE_IN'}, {'child': 127, 'head': 113, 'relationLabel': 'EXPERIENCE_IN'}, {'child': 138, 'head': 113, 'relationLabel': 'EXPERIENCE_IN'}]   \n",
       "1                                                                                                                                     [{'child': 7, 'head': 1, 'relationLabel': 'EXPERIENCE_IN'}, {'child': 10, 'head': 1, 'relationLabel': 'EXPERIENCE_IN'}, {'child': 17, 'head': 12, 'relationLabel': 'DEGREE_IN'}, {'child': 19, 'head': 12, 'relationLabel': 'DEGREE_IN'}, {'child': 21, 'head': 12, 'relationLabel': 'DEGREE_IN'}, {'child': 24, 'head': 12, 'relationLabel': 'DEGREE_IN'}, {'child': 26, 'head': 12, 'relationLabel': 'DEGREE_IN'}, {'child': 128, 'head': 126, 'relationLabel': 'DEGREE_IN'}]   \n",
       "\n",
       "                                                                                                                                                                                label  \\\n",
       "0  diploma:ph.d.;diploma_major:machine learning,ai,computer science,statistics,applied mathematics,data science;experience:1+ year(s;skills:university,industry,government lab(s),ai;   \n",
       "1            experience:2+ years;skills:online advertising,research;diploma:bs/ba,masters;diploma_major:economics,statistics,political science,history,psychology,quantitative field;   \n",
       "\n",
       "                                                                                                 extracted_text  \\\n",
       "0  diploma:ph.d;diploma_major:computer science;experience:1+ year(s),0+ year(s);skills:research,machine learnin   \n",
       "1                                                              experience:2+ years;skills:advertising,research;   \n",
       "\n",
       "   similarity_score  correct  \n",
       "0          0.524476        0  \n",
       "1          0.444444        0  "
      ]
     },
     "execution_count": 48,
     "metadata": {},
     "output_type": "execute_result"
    }
   ],
   "source": [
    "test_df.head(2)"
   ]
  }
 ],
 "metadata": {
  "kernelspec": {
   "display_name": "Python 3.8.13 ('10Academy')",
   "language": "python",
   "name": "python3"
  },
  "language_info": {
   "codemirror_mode": {
    "name": "ipython",
    "version": 3
   },
   "file_extension": ".py",
   "mimetype": "text/x-python",
   "name": "python",
   "nbconvert_exporter": "python",
   "pygments_lexer": "ipython3",
   "version": "3.8.13"
  },
  "orig_nbformat": 4,
  "vscode": {
   "interpreter": {
    "hash": "5192764363ba388e8b5cea2a19d429bb0c0cfdab6b6a8c17b83680a2efed3a76"
   }
  }
 },
 "nbformat": 4,
 "nbformat_minor": 2
}
